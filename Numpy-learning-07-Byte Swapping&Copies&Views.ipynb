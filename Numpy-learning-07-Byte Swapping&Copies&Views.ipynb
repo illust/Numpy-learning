{
 "cells": [
  {
   "cell_type": "markdown",
   "metadata": {},
   "source": [
    "# 1. 字节交换\n",
    "我们已经了解，存储在计算机内存中的数据取决于CPU使用的体系结构。它可能是小端的（重要性最低的存储在最小的地址），也可能是大端的（最重要的字节在最小的地址）。\n",
    "### 1.1 numpy.ndarray.byteswap()\n",
    "该函数在两种形式之间切换：大端和小端。"
   ]
  },
  {
   "cell_type": "code",
   "execution_count": 1,
   "metadata": {},
   "outputs": [
    {
     "name": "stdout",
     "output_type": "stream",
     "text": [
      "Our array is:\n",
      "[   1  256 8755] \n",
      "\n",
      "Representation of data in memory in hexadecimal form:\n",
      "['0x1', '0x100', '0x2233']\n",
      "Applying byteswap() function:\n",
      "[  256     1 13090]\n",
      "In hexadecimal form:\n",
      "['0x100', '0x1', '0x3322']\n"
     ]
    }
   ],
   "source": [
    "import numpy as np\n",
    "a = np.array([1,256,8755],dtype=np.int16)\n",
    "\n",
    "print 'Our array is:'\n",
    "print a,'\\n'\n",
    "\n",
    "print 'Representation of data in memory in hexadecimal form:'\n",
    "print map(hex,a)\n",
    "\n",
    "# byteswap() function swaps in place by passing True parameter\n",
    "print 'Applying byteswap() function:'\n",
    "print a.byteswap(True)\n",
    "\n",
    "print 'In hexadecimal form:'\n",
    "print map(hex,a)\n",
    "# We can see the bytes being swapped"
   ]
  },
  {
   "cell_type": "markdown",
   "metadata": {},
   "source": [
    "# 2. 拷贝和视图\n",
    "当执行函数时，一些会返回输入数组的拷贝，而另一些会返回视图。一方面当内容物理上存储在另外的位置，叫做Copy；而另一方面，只是提供了相同内存空间内容的不同视图，我们叫它View。\n",
    "\n",
    "### 2.1 非拷贝\n",
    "一些赋值操作没有做任何数组对象的拷贝。相反，只使用了原始数组的相同id()去访问它。id()函数返回Python对象的唯一标识符，与C语言中的指针类似。当然你也可以理解为C++或者Java中的引用(reference)。而且，任何一方的变化都会反映在另一方面。例如，一个变化的形状也会改变另一个的形状。举例如下："
   ]
  },
  {
   "cell_type": "code",
   "execution_count": 3,
   "metadata": {},
   "outputs": [
    {
     "name": "stdout",
     "output_type": "stream",
     "text": [
      "Our array is:\n",
      "[0 1 2 3 4 5] \n",
      "\n",
      "Applying id() func:\n",
      "107853344 \n",
      "\n",
      "a is assigned to b:\n",
      "[0 1 2 3 4 5] \n",
      "\n",
      "b has same id():\n",
      "107853344 \n",
      "\n",
      "Change shape of b:\n",
      "[[0 1]\n",
      " [2 3]\n",
      " [4 5]] \n",
      "\n",
      "Shape of a also gets changed:\n",
      "[[0 1]\n",
      " [2 3]\n",
      " [4 5]]\n"
     ]
    }
   ],
   "source": [
    "a = np.arange(6)\n",
    "print 'Our array is:'\n",
    "print a,'\\n'\n",
    "\n",
    "print 'Applying id() func:'\n",
    "print id(a),'\\n'\n",
    "\n",
    "print 'a is assigned to b:'\n",
    "b = a\n",
    "print b,'\\n'\n",
    "\n",
    "print 'b has same id():'\n",
    "print id(b),'\\n'\n",
    "\n",
    "print 'Change shape of b:'\n",
    "b.shape = 3,2\n",
    "print b,'\\n'\n",
    "\n",
    "print 'Shape of a also gets changed:'\n",
    "print a"
   ]
  },
  {
   "cell_type": "markdown",
   "metadata": {},
   "source": [
    "### 2.2 视图/浅拷贝\n",
    "NumPy有ndarray.view()方法，它是一个新的数组对象，它查看原始数组的相同数据。用谷歌搜到了numpy中view（视图）的[详细解释](http://scipy-cookbook.readthedocs.io/items/ViewsVsCopies.html#What-is-a-view-of-a-NumPy-array?)，大意是讲view()正如其名字所说，这只是查看数组数据的另一种方式，得到的数组对象与原始数组共享数据。换句话说，**两者之间的数据变化完全是一致的**。  \n",
    "另外一点，对numpy中的数组进行**切片操作得到的也是视图**。  "
   ]
  },
  {
   "cell_type": "code",
   "execution_count": 8,
   "metadata": {},
   "outputs": [
    {
     "name": "stdout",
     "output_type": "stream",
     "text": [
      "Array a:\n",
      "[[0 1]\n",
      " [2 3]\n",
      " [4 5]] \n",
      "\n",
      "Create view of a:\n",
      "[[0 1]\n",
      " [2 3]\n",
      " [4 5]] \n",
      "\n",
      "id() for both the arrays are different:\n",
      "id() of a:\n",
      "139517264 \n",
      "\n",
      "id() of b:\n",
      "139517184 \n",
      "\n",
      "Shape of a:\n",
      "[[0 1]\n",
      " [2 3]\n",
      " [4 5]] \n",
      "\n",
      "change the value of elements in b:\n",
      "[[ 0  2  4]\n",
      " [ 6  8 10]] \n",
      "\n",
      "[[ 0  2]\n",
      " [ 4  6]\n",
      " [ 8 10]]\n"
     ]
    }
   ],
   "source": [
    "a = np.arange(6).reshape(3,2)\n",
    "print 'Array a:'\n",
    "print a,'\\n'\n",
    "\n",
    "print 'Create view of a:'\n",
    "b = a.view()\n",
    "print b,'\\n'\n",
    "\n",
    "print 'id() for both the arrays are different:'\n",
    "print 'id() of a:'\n",
    "print id(a),'\\n'\n",
    "print 'id() of b:'\n",
    "print id(b),'\\n'\n",
    "\n",
    "# Change the shape of b. It does not change the shape of a\n",
    "b.shape = 2,3\n",
    "\n",
    "print 'Shape of a:'\n",
    "print a,'\\n'\n",
    "\n",
    "# the data in both objects are same all the time\n",
    "print 'change the value of elements in b:'\n",
    "b *= 2\n",
    "print b,'\\n'\n",
    "print a"
   ]
  },
  {
   "cell_type": "markdown",
   "metadata": {},
   "source": [
    "**注意：**视图/浅拷贝与2.1节当中的赋值操作（非拷贝）的差别就在于前者会创建新的对象，后者不会。两种方式都会导致当中的数据相互影响。如果需要改变原始的数组元素而拷贝的数据不变，这时就需要深拷贝。"
   ]
  },
  {
   "cell_type": "markdown",
   "metadata": {},
   "source": [
    "### 2.3 深拷贝\n",
    "函数ndarray.copy()创建了一个深拷贝。它是一个完整的数组以及其中的数据的拷贝，不与原始数组共享数据。"
   ]
  },
  {
   "cell_type": "code",
   "execution_count": 9,
   "metadata": {},
   "outputs": [
    {
     "name": "stdout",
     "output_type": "stream",
     "text": [
      "Array a is:\n",
      "[[10 10]\n",
      " [ 2  3]\n",
      " [ 4  5]] \n",
      "\n",
      "Create a deep copy of a:\n",
      "Array b is:\n",
      "[[10 10]\n",
      " [ 2  3]\n",
      " [ 4  5]] \n",
      "\n",
      "Can we write b is a\n",
      "False \n",
      "\n",
      "Change the contents of b:\n",
      "Modified array b:\n",
      "[[100  10]\n",
      " [  2   3]\n",
      " [  4   5]] \n",
      "\n",
      "a remains unchanged:\n",
      "[[10 10]\n",
      " [ 2  3]\n",
      " [ 4  5]]\n"
     ]
    }
   ],
   "source": [
    "a = np.array([[10,10],[2,3],[4,5]])\n",
    "print 'Array a is:'\n",
    "print a,'\\n'\n",
    "\n",
    "print 'Create a deep copy of a:'\n",
    "b = a.copy()\n",
    "print 'Array b is:'\n",
    "print b,'\\n'\n",
    "\n",
    "# b does not share any memory of a \n",
    "print 'Can we write b is a'\n",
    "print b is a,'\\n'\n",
    "\n",
    "print 'Change the contents of b:'\n",
    "b[0,0] = 100\n",
    "\n",
    "print 'Modified array b:'\n",
    "print b,'\\n'\n",
    "\n",
    "print 'a remains unchanged:'\n",
    "print a"
   ]
  },
  {
   "cell_type": "code",
   "execution_count": null,
   "metadata": {
    "collapsed": true
   },
   "outputs": [],
   "source": []
  }
 ],
 "metadata": {
  "kernelspec": {
   "display_name": "Python 2",
   "language": "python",
   "name": "python2"
  },
  "language_info": {
   "codemirror_mode": {
    "name": "ipython",
    "version": 2
   },
   "file_extension": ".py",
   "mimetype": "text/x-python",
   "name": "python",
   "nbconvert_exporter": "python",
   "pygments_lexer": "ipython2",
   "version": "2.7.13"
  }
 },
 "nbformat": 4,
 "nbformat_minor": 2
}
