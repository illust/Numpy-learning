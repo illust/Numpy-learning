{
 "cells": [
  {
   "cell_type": "markdown",
   "metadata": {},
   "source": [
    "定义在numpy中最重要的对象是ndarray,它是一个N维数组类型，描述的是相同类型元素的集合。集合中的元素可以使用从零开始的索引进行访问。  \n",
    "在一个ndarray对象中，每一个元素占据相同大小的内存块，并且都是数据类型对象（称为dtype）的对象。\n",
    "任何从ndarray对象中提取的项目（通过切片）都由数组标量类型之一的Python对象表示。下图显示了ndarray，数据类型对象（dtype）和数组标量类型之间的关系：\n",
    "![image](https://www.tutorialspoint.com/numpy/images/ndarray.jpg)"
   ]
  },
  {
   "cell_type": "markdown",
   "metadata": {},
   "source": [
    "### Example 1"
   ]
  },
  {
   "cell_type": "code",
   "execution_count": 1,
   "metadata": {},
   "outputs": [
    {
     "name": "stdout",
     "output_type": "stream",
     "text": [
      "[1 2 3]\n"
     ]
    }
   ],
   "source": [
    "import numpy as np\n",
    "a = np.array([1,2,3])\n",
    "print a"
   ]
  },
  {
   "cell_type": "markdown",
   "metadata": {},
   "source": [
    "### Example 2"
   ]
  },
  {
   "cell_type": "code",
   "execution_count": 7,
   "metadata": {},
   "outputs": [
    {
     "name": "stdout",
     "output_type": "stream",
     "text": [
      "[[1 2]\n",
      " [3 4]]\n"
     ]
    }
   ],
   "source": [
    "a = np.array([[1,2],[3,4]])\n",
    "print a"
   ]
  },
  {
   "cell_type": "markdown",
   "metadata": {},
   "source": [
    "### Example 3"
   ]
  },
  {
   "cell_type": "code",
   "execution_count": 3,
   "metadata": {},
   "outputs": [
    {
     "name": "stdout",
     "output_type": "stream",
     "text": [
      "[[1 2 3 4 5]]\n"
     ]
    }
   ],
   "source": [
    "a = np.array([1,2,3,4,5],ndmin=2)\n",
    "print a"
   ]
  },
  {
   "cell_type": "markdown",
   "metadata": {},
   "source": [
    "### Example 4"
   ]
  },
  {
   "cell_type": "code",
   "execution_count": 4,
   "metadata": {},
   "outputs": [
    {
     "name": "stdout",
     "output_type": "stream",
     "text": [
      "[ 1.+0.j  2.+0.j  3.+0.j]\n"
     ]
    }
   ],
   "source": [
    "a = np.array([1,2,3],dtype=complex)\n",
    "print a "
   ]
  },
  {
   "cell_type": "markdown",
   "metadata": {},
   "source": [
    "The ndarray object consists of contiguous one-dimensional segment of computer memory, combined with an indexing scheme that maps each item to a location in the memory block. The memory block holds the elements in a row-major order (C style) or a column-major order (FORTRAN or MatLab style)."
   ]
  },
  {
   "cell_type": "markdown",
   "metadata": {},
   "source": [
    "# dtype"
   ]
  },
  {
   "cell_type": "markdown",
   "metadata": {},
   "source": [
    "NumPy支持比Python更多的数值类型。"
   ]
  },
  {
   "cell_type": "markdown",
   "metadata": {},
   "source": [
    "<table class=\"table table-bordered\">\n",
    "<tbody><tr>\n",
    "<th style=\"text-align:center;\">No.</th>\n",
    "<th style=\"text-align:center;\">Data Types &amp; Description</th>\n",
    "</tr>\n",
    "<tr>\n",
    "<td class=\"ts\">1</td>\n",
    "<td><p><b>bool_</b></p>\n",
    "<p>Boolean (True or False) stored as a byte</p>\n",
    "</td>\n",
    "</tr>\n",
    "<tr>\n",
    "<td class=\"ts\">2</td>\n",
    "<td><p><b>int_</b></p>\n",
    "<p>Default integer type (same as C long; normally either int64 or int32)</p>\n",
    "</td>\n",
    "</tr>\n",
    "<tr>\n",
    "<td class=\"ts\">3</td>\n",
    "<td><p><b>intc</b></p>\n",
    "<p>Identical to C int (normally int32 or int64)</p>\n",
    "</td>\n",
    "</tr>\n",
    "<tr>\n",
    "<td class=\"ts\">4</td>\n",
    "<td><p><b>intp</b></p>\n",
    "<p>Integer used for indexing (same as C ssize_t; normally either int32 or int64)</p>\n",
    "</td>\n",
    "</tr>\n",
    "<tr>\n",
    "<td class=\"ts\">5</td>\n",
    "<td><p><b>int8</b></p>\n",
    "<p>Byte (-128 to 127)</p>\n",
    "</td>\n",
    "</tr>\n",
    "<tr>\n",
    "<td class=\"ts\">6</td>\n",
    "<td><p><b>int16</b></p>\n",
    "<p>Integer (-32768 to 32767)</p>\n",
    "</td>\n",
    "</tr>\n",
    "<tr>\n",
    "<td class=\"ts\">7</td>\n",
    "<td><p><b>int32</b></p>\n",
    "<p>Integer (-2147483648 to 2147483647)</p>\n",
    "</td>\n",
    "</tr>\n",
    "<tr>\n",
    "<td class=\"ts\">8</td>\n",
    "<td><p><b>int64</b></p>\n",
    "<p>Integer (-9223372036854775808 to 9223372036854775807)</p>\n",
    "</td>\n",
    "</tr>\n",
    "<tr>\n",
    "<td class=\"ts\">9</td>\n",
    "<td><p><b>uint8</b></p>\n",
    "<p>Unsigned integer (0 to 255)</p>\n",
    "</td>\n",
    "</tr>\n",
    "<tr>\n",
    "<td class=\"ts\">10</td>\n",
    "<td><p><b>uint16</b></p>\n",
    "<p>Unsigned integer (0 to 65535)</p>\n",
    "</td>\n",
    "</tr>\n",
    "<tr>\n",
    "<td class=\"ts\">11</td>\n",
    "<td><p><b>uint32</b></p>\n",
    "<p>Unsigned integer (0 to 4294967295)</p>\n",
    "</td>\n",
    "</tr>\n",
    "<tr>\n",
    "<td class=\"ts\">12</td>\n",
    "<td><p><b>uint64</b></p>\n",
    "<p>Unsigned integer (0 to 18446744073709551615)</p>\n",
    "</td>\n",
    "</tr>\n",
    "<tr>\n",
    "<td class=\"ts\">13</td>\n",
    "<td><p><b>float_</b></p>\n",
    "<p>Shorthand for float64</p>\n",
    "</td>\n",
    "</tr>\n",
    "<tr>\n",
    "<td class=\"ts\">14</td>\n",
    "<td><p><b>float16</b></p>\n",
    "<p>Half precision float: sign bit, 5 bits exponent, 10 bits mantissa</p>\n",
    "</td>\n",
    "</tr>\n",
    "<tr>\n",
    "<td class=\"ts\">15</td>\n",
    "<td><p><b>float32</b></p>\n",
    "<p>Single precision float: sign bit, 8 bits exponent, 23 bits mantissa</p>\n",
    "</td>\n",
    "</tr>\n",
    "<tr>\n",
    "<td class=\"ts\">16</td>\n",
    "<td><p><b>float64</b></p>\n",
    "<p>Double precision float: sign bit, 11 bits exponent, 52 bits mantissa</p>\n",
    "</td>\n",
    "</tr>\n",
    "<tr>\n",
    "<td class=\"ts\">17</td>\n",
    "<td><p><b>complex_</b></p>\n",
    "<p>Shorthand for complex128</p>\n",
    "</td>\n",
    "</tr>\n",
    "<tr>\n",
    "<td class=\"ts\">18</td>\n",
    "<td><p><b>complex64</b></p>\n",
    "<p>Complex number, represented by two 32-bit floats (real and imaginary components)</p>\n",
    "</td>\n",
    "</tr>\n",
    "<tr>\n",
    "<td class=\"ts\">19</td>\n",
    "<td><p><b>complex128</b></p>\n",
    "<p>Complex number, represented by two 64-bit floats (real and imaginary components)</p>\n",
    "</td>\n",
    "</tr>\n",
    "</tbody></table>"
   ]
  },
  {
   "cell_type": "markdown",
   "metadata": {},
   "source": [
    "### 数据类型对象(dtype)"
   ]
  },
  {
   "cell_type": "markdown",
   "metadata": {},
   "source": [
    "数据类型对象根据以下方面描述对应于数组的固定内存块的解释:\n",
    "- 数据类型（整型，浮点型或者python对象）\n",
    "- 数据大小\n",
    "- 字节顺序（大小端）\n",
    "- 在结构化类型的情况下，字段的名称，每个字段的数据类型及每个字段占用的存储器块的一部分\n",
    "- 如果数据类型是子数组，则考虑它的形状和数据类型  \n",
    "\n",
    "dtype对象结构如下：\n",
    "numpy.dtype(object,align,copy) \n",
    "- object: 被转换为数据类型对象\n",
    "- align: 如果为true，则向该字段添加填充以使其类似C结构\n",
    "- copy: 制作dtype对象的新副本。如果为false，则结果是引用内置数据类型的对象"
   ]
  },
  {
   "cell_type": "markdown",
   "metadata": {},
   "source": [
    "#### Example 1"
   ]
  },
  {
   "cell_type": "code",
   "execution_count": 8,
   "metadata": {},
   "outputs": [
    {
     "name": "stdout",
     "output_type": "stream",
     "text": [
      "int32\n"
     ]
    }
   ],
   "source": [
    "# using array-scalar type\n",
    "import numpy as np\n",
    "dt = np.dtype(np.int32)\n",
    "print dt"
   ]
  },
  {
   "cell_type": "markdown",
   "metadata": {},
   "source": [
    "#### Example 2 \n",
    "The following examples define a structured data type called student with a string field 'name', an integer field 'age' and a float field 'marks'. This dtype is applied to ndarray object."
   ]
  },
  {
   "cell_type": "code",
   "execution_count": 9,
   "metadata": {},
   "outputs": [
    {
     "name": "stdout",
     "output_type": "stream",
     "text": [
      "[('name', 'S20'), ('age', 'i1'), ('marks', '<f4')]\n"
     ]
    }
   ],
   "source": [
    "student = np.dtype([('name','S20'),('age','i1'),('marks','f4')])\n",
    "print student"
   ]
  },
  {
   "cell_type": "markdown",
   "metadata": {},
   "source": [
    "# 数组属性\n",
    "这一节讨论numpy的各种数组属性\n",
    "### ndarray.shape\n",
    "这个数组属性返回一个由数组维度组成的元组，它也可以用于调整数组大小。"
   ]
  },
  {
   "cell_type": "code",
   "execution_count": 10,
   "metadata": {},
   "outputs": [
    {
     "name": "stdout",
     "output_type": "stream",
     "text": [
      "(2L, 3L)\n"
     ]
    }
   ],
   "source": [
    "import numpy as np\n",
    "a = np.array([[1,2,3],[4,5,6]])\n",
    "print a.shape"
   ]
  },
  {
   "cell_type": "code",
   "execution_count": 12,
   "metadata": {},
   "outputs": [
    {
     "name": "stdout",
     "output_type": "stream",
     "text": [
      "[[1 2]\n",
      " [3 4]\n",
      " [5 6]]\n"
     ]
    }
   ],
   "source": [
    "# 调整ndarray大小\n",
    "a.shape = (3,2)\n",
    "print a"
   ]
  },
  {
   "cell_type": "code",
   "execution_count": 14,
   "metadata": {},
   "outputs": [
    {
     "name": "stdout",
     "output_type": "stream",
     "text": [
      "[[1 2]\n",
      " [3 4]\n",
      " [5 6]]\n"
     ]
    }
   ],
   "source": [
    "# numpy中的reshape函数也提供了相同的功能\n",
    "a = np.array([[1,2,3],[4,5,6]]) \n",
    "b = a.reshape(3,2) \n",
    "print b"
   ]
  },
  {
   "cell_type": "markdown",
   "metadata": {},
   "source": [
    "### ndarray.ndim\n",
    "这个数组属性返回数组维数"
   ]
  },
  {
   "cell_type": "code",
   "execution_count": 20,
   "metadata": {},
   "outputs": [
    {
     "name": "stdout",
     "output_type": "stream",
     "text": [
      "1\n",
      "3\n"
     ]
    }
   ],
   "source": [
    "# a现在是一个一维数组\n",
    "a = np.arange(24)\n",
    "print a.ndim\n",
    "\n",
    "# 应用reshape(),现在b为三维数组\n",
    "b = a.reshape(2,4,3)\n",
    "print b.ndim"
   ]
  },
  {
   "cell_type": "markdown",
   "metadata": {},
   "source": [
    "### numpy.itemsize\n",
    "这个数组属性以字节为单位返回数组中每个元素的长度"
   ]
  },
  {
   "cell_type": "code",
   "execution_count": 22,
   "metadata": {},
   "outputs": [
    {
     "name": "stdout",
     "output_type": "stream",
     "text": [
      "1\n"
     ]
    }
   ],
   "source": [
    "# 数组的dtype是int8（一个字节）\n",
    "x = np.array([1,2,3,4,5],dtype=np.int8)\n",
    "print x.itemsize"
   ]
  },
  {
   "cell_type": "code",
   "execution_count": 23,
   "metadata": {},
   "outputs": [
    {
     "name": "stdout",
     "output_type": "stream",
     "text": [
      "4\n"
     ]
    }
   ],
   "source": [
    "# 数组的dtype是float32（四个字节）\n",
    "x = np.array([1,2,3,4,5],dtype=np.float32)\n",
    "print x.itemsize"
   ]
  },
  {
   "cell_type": "markdown",
   "metadata": {},
   "source": [
    "### numpy.flags\n",
    "ndarray对象具有以下属性,它的当前值是由这个函数返回的"
   ]
  },
  {
   "cell_type": "markdown",
   "metadata": {},
   "source": [
    "<table class=\"table table-bordered\">\n",
    "<tbody><tr>\n",
    "<th style=\"text-align:center;\">Sr.No.</th>\n",
    "<th style=\"text-align:center;\">Attribute &amp; Description</th>\n",
    "</tr>\n",
    "<tr>\n",
    "<td class=\"ts\">1</td>\n",
    "<td><p><b>C_CONTIGUOUS (C)</b></p>\n",
    "<p>The data is in a single, C-style contiguous segment</p>\n",
    "</td>\n",
    "</tr>\n",
    "<tr>\n",
    "<td class=\"ts\">2</td>\n",
    "<td><p><b>F_CONTIGUOUS (F)</b></p>\n",
    "<p>The data is in a single, Fortran-style contiguous segment</p>\n",
    "</td>\n",
    "</tr>\n",
    "<tr>\n",
    "<td class=\"ts\">3</td>\n",
    "<td><p><b>OWNDATA (O)</b></p>\n",
    "<p>The array owns the memory it uses or borrows it from another object</p>\n",
    "</td>\n",
    "</tr>\n",
    "<tr>\n",
    "<td class=\"ts\">4</td>\n",
    "<td><p><b>WRITEABLE (W)</b></p>\n",
    "<p>The data area can be written to. Setting this to False locks the data, making it read-only</p>\n",
    "</td>\n",
    "</tr>\n",
    "<tr>\n",
    "<td class=\"ts\">5</td>\n",
    "<td><p><b>ALIGNED (A)</b></p>\n",
    "<p>The data and all elements are aligned appropriately for the hardware</p>\n",
    "</td>\n",
    "</tr>\n",
    "<tr>\n",
    "<td class=\"ts\">6</td>\n",
    "<td><p><b>UPDATEIFCOPY (U)</b></p>\n",
    "<p>This array is a copy of some other array. When this array is deallocated, the base array will be updated with the contents of this array</p>\n",
    "</td>\n",
    "</tr>\n",
    "</tbody></table>"
   ]
  },
  {
   "cell_type": "markdown",
   "metadata": {},
   "source": [
    "下面的例子展示了标识的当前值"
   ]
  },
  {
   "cell_type": "code",
   "execution_count": 24,
   "metadata": {},
   "outputs": [
    {
     "name": "stdout",
     "output_type": "stream",
     "text": [
      "  C_CONTIGUOUS : True\n",
      "  F_CONTIGUOUS : True\n",
      "  OWNDATA : True\n",
      "  WRITEABLE : True\n",
      "  ALIGNED : True\n",
      "  UPDATEIFCOPY : False\n"
     ]
    }
   ],
   "source": [
    "x = np.array([1,2,3,4,5])\n",
    "print x.flags"
   ]
  },
  {
   "cell_type": "markdown",
   "metadata": {},
   "source": [
    "# 数组创建\n",
    "一个新的ndarray对象可以通过下面的数组创建例程或者使用低级别的ndarray构造器进行创建"
   ]
  },
  {
   "cell_type": "markdown",
   "metadata": {},
   "source": [
    "### numpy.empty\n",
    "它创建了一个未初始化的指定形状和元素类型的数组。结构如下：\n",
    "```python\n",
    "numpy.empty(shape,dtype=float,order='C')\n",
    "```\n",
    "构造的参数具体意义：\n",
    "<table class=\"table table-bordered\">\n",
    "<tbody><tr>\n",
    "<th style=\"text-align:center;\">Sr.No.</th>\n",
    "<th style=\"text-align:center;\">Parameter &amp; Description</th>\n",
    "</tr>\n",
    "<tr>\n",
    "<td class=\"ts\">1</td>\n",
    "<td><p><b>Shape</b></p>\n",
    "<p>Shape of an empty array in int or tuple of int</p>\n",
    "</td>\n",
    "</tr>\n",
    "<tr>\n",
    "<td class=\"ts\">2</td>\n",
    "<td><p><b>Dtype</b></p>\n",
    "<p>Desired output data type. Optional</p>\n",
    "</td>\n",
    "</tr>\n",
    "<tr>\n",
    "<td class=\"ts\">3</td>\n",
    "<td><p><b>Order</b></p>\n",
    "<p>'C' for C-style row-major array, 'F' for FORTRAN style column-major array</p>\n",
    "</td>\n",
    "</tr>\n",
    "</tbody></table>\n",
    "\n",
    "下面的代码展现了一个空数组的例子"
   ]
  },
  {
   "cell_type": "code",
   "execution_count": 26,
   "metadata": {},
   "outputs": [
    {
     "name": "stdout",
     "output_type": "stream",
     "text": [
      "[[1 2]\n",
      " [3 4]\n",
      " [5 6]]\n"
     ]
    }
   ],
   "source": [
    "import numpy as np\n",
    "a = np.empty([3,2],dtype=int)\n",
    "print a"
   ]
  },
  {
   "cell_type": "markdown",
   "metadata": {},
   "source": [
    "**注意：**由于数组未初始化，所以其中的元素是随机的"
   ]
  },
  {
   "cell_type": "markdown",
   "metadata": {},
   "source": [
    "### numpy.zeros\n",
    "创建一个指定大小，元素全为0的新数组\n",
    "```python\n",
    "numpy.zeros(shape,dtype=float,order='C')\n",
    "```\n",
    "参数具体意义与上述内容相似，不再赘述。注意dtype默认为浮点型"
   ]
  },
  {
   "cell_type": "code",
   "execution_count": 30,
   "metadata": {},
   "outputs": [
    {
     "name": "stdout",
     "output_type": "stream",
     "text": [
      "[ 0.  0.  0.  0.  0.] \n",
      "\n",
      "[0 0 0 0 0] \n",
      "\n",
      "[[(0, 0) (0, 0)]\n",
      " [(0, 0) (0, 0)]]\n"
     ]
    }
   ],
   "source": [
    "x = np.zeros(5)\n",
    "print x,'\\n'\n",
    "\n",
    "# 指定元素类型\n",
    "x = np.zeros((5,),dtype=np.int)\n",
    "print x,'\\n'\n",
    "\n",
    "x = np.zeros((2,2),dtype=[('x','i4'),('y','i4')])\n",
    "print x"
   ]
  },
  {
   "cell_type": "markdown",
   "metadata": {},
   "source": [
    "### numpy.ones\n",
    "创建一个指定大小，元素全为1的新数组\n",
    "```python\n",
    "numpy.ones(shape,dtype=None,order='C')\n",
    "```"
   ]
  },
  {
   "cell_type": "code",
   "execution_count": 35,
   "metadata": {},
   "outputs": [
    {
     "name": "stdout",
     "output_type": "stream",
     "text": [
      "[ 1.  1.  1.  1.  1.] \n",
      "\n",
      "[[('1', '1') ('1', '1')]\n",
      " [('1', '1') ('1', '1')]]\n"
     ]
    }
   ],
   "source": [
    "# 5个元素都为1的数组。默认元素类型为float\n",
    "x = np.ones(5)\n",
    "print x,'\\n'\n",
    "\n",
    "x = np.ones((2,2),dtype=[('x','a4'),('y','a4')]) # 'a'表示元素为字符类型\n",
    "print x"
   ]
  },
  {
   "cell_type": "markdown",
   "metadata": {},
   "source": [
    "# 从现有数据中创建数组\n",
    "### numpy.asarray\n",
    "这个函数与np.array类似，除了它有更少的参数。这个规则在将python序列转换为ndarray类型数据时很有用途\n",
    "```python\n",
    "numpy.asarray(a,dtype=None,order=None)\n",
    "```\n",
    "参数具体意义：\n",
    "<table class=\"table table-bordered\">\n",
    "<tbody><tr>\n",
    "<th style=\"text-align:center;\">Sr.No.</th>\n",
    "<th style=\"text-align:center;\">Parameter &amp; Description</th>\n",
    "</tr>\n",
    "<tr>\n",
    "<td class=\"ts\">1</td>\n",
    "<td><p><b>a</b></p>\n",
    "<p>Input data in any form such as list, list of tuples, tuples, tuple of tuples or tuple of lists</p>\n",
    "</td>\n",
    "</tr>\n",
    "<tr>\n",
    "<td class=\"ts\">2</td>\n",
    "<td><p><b>dtype</b></p>\n",
    "<p>By default, the data type of input data is applied to the resultant ndarray</p>\n",
    "</td>\n",
    "</tr>\n",
    "<tr>\n",
    "<td class=\"ts\">3</td>\n",
    "<td><p><b>order</b></p>\n",
    "<p>C (row major) or F (column major). C is default</p>\n",
    "</td>\n",
    "</tr>\n",
    "</tbody></table>\n",
    "\n",
    "下面的例子将介绍asarray函数的使用"
   ]
  },
  {
   "cell_type": "code",
   "execution_count": 36,
   "metadata": {},
   "outputs": [
    {
     "name": "stdout",
     "output_type": "stream",
     "text": [
      "[1 2 3]\n"
     ]
    }
   ],
   "source": [
    "# 将列表转换为ndarray\n",
    "import numpy as np\n",
    "\n",
    "x = [1,2,3]\n",
    "a = np.asarray(x)\n",
    "print a"
   ]
  },
  {
   "cell_type": "code",
   "execution_count": 37,
   "metadata": {},
   "outputs": [
    {
     "name": "stdout",
     "output_type": "stream",
     "text": [
      "[ 1.  2.  3.]\n"
     ]
    }
   ],
   "source": [
    "# 设定dtype为集合类型\n",
    "a = np.asarray(x,dtype=float)\n",
    "print a"
   ]
  },
  {
   "cell_type": "code",
   "execution_count": 46,
   "metadata": {},
   "outputs": [
    {
     "name": "stdout",
     "output_type": "stream",
     "text": [
      "[1 2 3] \n",
      "\n",
      "[(1, 2, 3) (4, 5)]\n"
     ]
    }
   ],
   "source": [
    "# 元组类型\n",
    "x = (1,2,3)\n",
    "a = np.asarray(x)\n",
    "print a,'\\n'\n",
    "\n",
    "# 元组列表类型\n",
    "x = [(1,2,3),(4,5)]\n",
    "a = np.asarray(x)\n",
    "print a"
   ]
  },
  {
   "cell_type": "markdown",
   "metadata": {},
   "source": [
    "### numpy.frombuffer\n",
    "该函数将缓冲区解释为一维数组。公开缓冲区接口的任何对象都被用作返回一个ndarray的参数\n",
    "```python\n",
    "numpy.frombuffer(buffer,dtype=float,count=-1,offset=0)\n",
    "```\n",
    "参数具体意义：\n",
    "<table class=\"table table-bordered\">\n",
    "<tbody><tr>\n",
    "<th style=\"text-align:center;\">Sr.No.</th>\n",
    "<th style=\"text-align:center;\">Parameter &amp; Description</th>\n",
    "</tr>\n",
    "<tr>\n",
    "<td class=\"ts\">1</td>\n",
    "<td><p><b>buffer</b></p>\n",
    "<p>Any object that exposes buffer interface</p>\n",
    "</td>\n",
    "</tr>\n",
    "<tr>\n",
    "<td class=\"ts\">2</td>\n",
    "<td><p><b>dtype</b></p>\n",
    "<p>Data type of returned ndarray. Defaults to float</p>\n",
    "</td>\n",
    "</tr>\n",
    "<tr>\n",
    "<td class=\"ts\">3</td>\n",
    "<td><p><b>count</b></p>\n",
    "<p>The number of items to read, default -1 means all data</p>\n",
    "</td>\n",
    "</tr>\n",
    "<tr>\n",
    "<td class=\"ts\">4</td>\n",
    "<td><p><b>offset</b></p>\n",
    "<p>The starting position to read from. Default is 0</p>\n",
    "</td>\n",
    "</tr>\n",
    "</tbody></table>\n",
    "\n",
    "下面的例子介绍frombuffer函数使用"
   ]
  },
  {
   "cell_type": "code",
   "execution_count": 47,
   "metadata": {},
   "outputs": [
    {
     "name": "stdout",
     "output_type": "stream",
     "text": [
      "['H' 'e' 'l' 'l' 'o' ' ' 'W' 'o' 'r' 'l' 'd']\n"
     ]
    }
   ],
   "source": [
    "s = 'Hello World'\n",
    "a = np.frombuffer(s,dtype='S1')\n",
    "print a"
   ]
  },
  {
   "cell_type": "markdown",
   "metadata": {},
   "source": [
    "### numpy.fromiter\n",
    "这个函数从一个可迭代对象构建一个ndarray对象。返回一个新的一维数组\n",
    "```python\n",
    "numpy.fromiter(iterable,dtype,count=-1)\n",
    "```\n",
    "参数具体意义：\n",
    "<table class=\"table table-bordered\">\n",
    "<tbody><tr>\n",
    "<th style=\"text-align:center;\">Sr.No.</th>\n",
    "<th style=\"text-align:center;\">Parameter &amp; Description</th>\n",
    "</tr>\n",
    "<tr>\n",
    "<td class=\"ts\">1</td>\n",
    "<td><p><b>iterable</b></p>\n",
    "<p>Any iterable object</p>\n",
    "</td>\n",
    "</tr>\n",
    "<tr>\n",
    "<td class=\"ts\">2</td>\n",
    "<td><p><b>dtype</b></p>\n",
    "<p>Data type of resultant array</p>\n",
    "</td>\n",
    "</tr>\n",
    "<tr>\n",
    "<td class=\"ts\">3</td>\n",
    "<td><p><b>count</b></p>\n",
    "<p>The number of items to be read from iterator. Default is -1 which means all data to be read</p>\n",
    "</td>\n",
    "</tr>\n",
    "</tbody></table>\n",
    "\n",
    "下面的例子展示了怎样使用内置的range()函数返回列表对象。这个列表的迭代器被用来构造一个ndarray对象\n"
   ]
  },
  {
   "cell_type": "code",
   "execution_count": 50,
   "metadata": {},
   "outputs": [
    {
     "name": "stdout",
     "output_type": "stream",
     "text": [
      "[0, 1, 2, 3, 4]\n",
      "[ 0.  1.  2.  3.  4.]\n"
     ]
    }
   ],
   "source": [
    "# 使用range函数创建列表对象\n",
    "lst = range(5)\n",
    "print lst\n",
    "\n",
    "# 从列表获取迭代对象\n",
    "it = iter(lst)\n",
    "\n",
    "# 使用迭代器创建ndarray\n",
    "x = np.fromiter(it,dtype=float)\n",
    "print x"
   ]
  },
  {
   "cell_type": "markdown",
   "metadata": {},
   "source": [
    "# 从数值范围创建数组\n",
    "### numpy.arange\n",
    "这个函数返回一个包含给定范围内均匀间隔值的ndarray对象。结构如下：\n",
    "```python\n",
    "numpy.arange(start,stop,step,dtype)\n",
    "```\n",
    "函数参数意义很明显，要注意的有两点：\n",
    "- 间隔的结束值(stop)通常不被包括在内\n",
    "- 间隔的开始和结束默认时分别是0和1  \n",
    "\n",
    "举例如下："
   ]
  },
  {
   "cell_type": "code",
   "execution_count": 59,
   "metadata": {},
   "outputs": [
    {
     "name": "stdout",
     "output_type": "stream",
     "text": [
      "[0 1 2 3 4]\n"
     ]
    }
   ],
   "source": [
    "import numpy as np\n",
    "x = np.arange(5) \n",
    "print x"
   ]
  },
  {
   "cell_type": "markdown",
   "metadata": {},
   "source": [
    "**注意：**  \n",
    "要将np.arange()与python内置的range()和xrange()函数区分开，虽然功能相同，但是需要创建的数组很大时，在你使用恰当的情况下，numpy的范围函数的高效性就体现出来了"
   ]
  },
  {
   "cell_type": "code",
   "execution_count": 62,
   "metadata": {},
   "outputs": [
    {
     "name": "stdout",
     "output_type": "stream",
     "text": [
      "1 loop, best of 3: 978 ms per loop\n",
      "1 loop, best of 3: 963 ms per loop\n",
      "10 loops, best of 3: 179 ms per loop\n",
      "100 loops, best of 3: 3.34 ms per loop\n"
     ]
    }
   ],
   "source": [
    "size = int(1E6)\n",
    "\n",
    "%timeit for x in range(size): x ** 2\n",
    "# xrange()与range()用法相同，区别是range()返回列表，而xrange()返回生成器\n",
    "# 在迭代生成大量数字的序列时，后者因为每次只调用返回一个元素，\n",
    "# 不必一次性占用大量内存空间，所以性能优于前者很多\n",
    "%timeit for x in xrange(size): x ** 2\n",
    "    \n",
    "# 避免使用\n",
    "%timeit for x in np.arange(size): x ** 2\n",
    "# 使用下面这种形式，效率大大提升\n",
    "%timeit np.arange(size) ** 2"
   ]
  },
  {
   "cell_type": "code",
   "execution_count": 61,
   "metadata": {},
   "outputs": [
    {
     "name": "stdout",
     "output_type": "stream",
     "text": [
      "[10 12 14 16 18]\n"
     ]
    }
   ],
   "source": [
    "# 设置开始和结束参数\n",
    "x = np.arange(10,20,2)\n",
    "print x"
   ]
  },
  {
   "cell_type": "markdown",
   "metadata": {},
   "source": [
    "### numpy.linspace\n",
    "这个函数与arange()相似。此函数中在start和stop后的第三个参数不表示步长，而是指定间隔之间均匀间隔值的数量。用法如下：\n",
    "```python\n",
    "numpy.linspace(start,stop,num,endpoint,restep,dtype)\n",
    "```\n",
    "下面给出示例："
   ]
  },
  {
   "cell_type": "code",
   "execution_count": 63,
   "metadata": {},
   "outputs": [
    {
     "name": "stdout",
     "output_type": "stream",
     "text": [
      "[ 10.   12.5  15.   17.5  20. ]\n"
     ]
    }
   ],
   "source": [
    "x = np.linspace(10,20,5)\n",
    "print x"
   ]
  },
  {
   "cell_type": "code",
   "execution_count": 64,
   "metadata": {},
   "outputs": [
    {
     "name": "stdout",
     "output_type": "stream",
     "text": [
      "[ 10.  12.  14.  16.  18.]\n"
     ]
    }
   ],
   "source": [
    "# 设置endpoint为false\n",
    "x = np.linspace(10,20,5,endpoint=False)\n",
    "print x"
   ]
  },
  {
   "cell_type": "code",
   "execution_count": null,
   "metadata": {
    "collapsed": true
   },
   "outputs": [],
   "source": []
  }
 ],
 "metadata": {
  "kernelspec": {
   "display_name": "Python 2",
   "language": "python",
   "name": "python2"
  },
  "language_info": {
   "codemirror_mode": {
    "name": "ipython",
    "version": 2
   },
   "file_extension": ".py",
   "mimetype": "text/x-python",
   "name": "python",
   "nbconvert_exporter": "python",
   "pygments_lexer": "ipython2",
   "version": "2.7.13"
  }
 },
 "nbformat": 4,
 "nbformat_minor": 2
}
