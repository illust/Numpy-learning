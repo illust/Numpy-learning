{
 "cells": [
  {
   "cell_type": "markdown",
   "metadata": {},
   "source": [
    "# 索引"
   ]
  },
  {
   "cell_type": "markdown",
   "metadata": {
    "collapsed": true
   },
   "source": [
    "与python的内置容器对象一样，ndarray对象的内容可以通过**索引**和**切片**被访问和修改。之前提到，ndarray对象中的项遵循从零开始的索引，有三种索引方式可供选择：字段访问，基本切片以及高级索引。  \n",
    "基本切片是python中N维切片基本概念的扩展。一个python切片对象由内置slice函数给定的start,stop和step参数构建而成，这个切片对象传递到numy数组中，用于提取数组的一部分。"
   ]
  },
  {
   "cell_type": "markdown",
   "metadata": {},
   "source": [
    "### 1. 基本切片\n",
    "基本切片是python中N维切片基本概念的扩展。一个python切片对象由内置slice函数给定的start,stop和step参数构建而成，这个切片对象传递到numy数组中，用于提取数组的一部分。"
   ]
  },
  {
   "cell_type": "code",
   "execution_count": 4,
   "metadata": {},
   "outputs": [
    {
     "name": "stdout",
     "output_type": "stream",
     "text": [
      "[2 4 6]\n"
     ]
    }
   ],
   "source": [
    "import numpy as np\n",
    "\n",
    "a = np.arange(10)\n",
    "s = slice(2,7,2)\n",
    "print a[s]"
   ]
  },
  {
   "cell_type": "markdown",
   "metadata": {},
   "source": [
    "上面的例子中，ndarray对象由arange()函数构建，同样的效果也可以通过由冒号分割的切片参数(start:stop:step)直接传递给ndarray对象实现。"
   ]
  },
  {
   "cell_type": "code",
   "execution_count": 8,
   "metadata": {},
   "outputs": [
    {
     "name": "stdout",
     "output_type": "stream",
     "text": [
      "[2 4 6] \n",
      "\n",
      "5 \n",
      "\n",
      "[2 3 4 5 6 7 8 9]\n"
     ]
    }
   ],
   "source": [
    "# 切片索引开始，结束和步长全部给出\n",
    "print a[2:7:2],'\\n'\n",
    "\n",
    "# 如果只有一个参数传入，与索引对应的元素项将被返回\n",
    "print a[5],'\\n'\n",
    "\n",
    "# 从索引start=2开始切片\n",
    "print a[2:]"
   ]
  },
  {
   "cell_type": "markdown",
   "metadata": {},
   "source": [
    "上述操作对于多维ndarray也是一样。"
   ]
  },
  {
   "cell_type": "code",
   "execution_count": 12,
   "metadata": {},
   "outputs": [
    {
     "name": "stdout",
     "output_type": "stream",
     "text": [
      "[[1 2 3]\n",
      " [3 4 5]\n",
      " [4 5 6]] \n",
      "\n",
      "[[3 4 5]\n",
      " [4 5 6]] \n",
      "\n",
      "[[2 3]\n",
      " [4 5]\n",
      " [5 6]]\n"
     ]
    }
   ],
   "source": [
    "a = np.array([[1,2,3],[3,4,5],[4,5,6]])\n",
    "print a,'\\n'\n",
    "\n",
    "# 多维数组切片时，如果参数中没有逗号，则默认是按行进行切片\n",
    "print a[1:],'\\n' \n",
    "\n",
    "# 添加省略号和逗号，可以按列进行切分\n",
    "print a[...,1:]"
   ]
  },
  {
   "cell_type": "markdown",
   "metadata": {},
   "source": [
    "### 2. 高级索引  \n",
    "可以从ndarray中选择一个非元组序列，整数或者布尔类型的ndarray对象，或者至少有一个元素是一个序列对象的元组。高级索引通常返回的是数据的拷贝，与此相反，切片只呈现一个视图。  有两种类型的高级索引：整数和布尔。"
   ]
  },
  {
   "cell_type": "markdown",
   "metadata": {},
   "source": [
    "#### 2.1 整数索引  \n",
    "这种原理根据自身的N维索引帮助我们在数组中选择任意项。每个整数数组代表进入该维度的索引数量。当索引由与目标ndarray的维度相同数量的整数数组组成时，就变得简单明了。  \n",
    "在以下示例中，选择了从ndarray对象的每一行中指定列的一个元素。因此，行索引包含所有行号，列索引指定要选择的元素。"
   ]
  },
  {
   "cell_type": "code",
   "execution_count": 15,
   "metadata": {},
   "outputs": [
    {
     "name": "stdout",
     "output_type": "stream",
     "text": [
      "[[1 2]\n",
      " [3 4]\n",
      " [5 6]] \n",
      "\n",
      "[1 4 5]\n"
     ]
    }
   ],
   "source": [
    "x = np.array([[1,2],[3,4],[5,6]])\n",
    "y = x[[0,1,2],[0,1,0]]\n",
    "print x,'\\n'\n",
    "print y"
   ]
  },
  {
   "cell_type": "markdown",
   "metadata": {},
   "source": [
    "上面的例子相当于选择了ndarray中的(0,0),(1,1)和(2,0)位置的元素。  \n",
    "下面的例子中，位于4x3数组四角的元素被选中。选择的行索引是[0,0]和[3,3]，而列索引是[0,2]和[0,2]。"
   ]
  },
  {
   "cell_type": "code",
   "execution_count": 18,
   "metadata": {},
   "outputs": [
    {
     "name": "stdout",
     "output_type": "stream",
     "text": [
      "[[ 0  1  2]\n",
      " [ 3  4  5]\n",
      " [ 6  7  8]\n",
      " [ 9 10 11]] \n",
      "\n",
      "[[ 0  2]\n",
      " [ 9 11]]\n"
     ]
    }
   ],
   "source": [
    "x = np.array([[0,1,2],[3,4,5],[6,7,8],[9,10,11]])\n",
    "print x,'\\n'\n",
    "\n",
    "rows = np.array([[0,0],[3,3]])\n",
    "cols = np.array([[0,2],[0,2]])\n",
    "y = x[rows,cols]\n",
    "\n",
    "# 输出结果是一个包含四角元素的ndarray对象\n",
    "print y"
   ]
  },
  {
   "cell_type": "markdown",
   "metadata": {},
   "source": [
    "高级索引与基本索引可以通过使用切片(:)或者省略号与索引数组结合使用。下面的例子对行使用了切片，对列使用了高级索引，这与两者都使用切片的效果相同。但是高级索引引起的拷贝可能会导致不同的内存分布。"
   ]
  },
  {
   "cell_type": "code",
   "execution_count": 19,
   "metadata": {},
   "outputs": [
    {
     "name": "stdout",
     "output_type": "stream",
     "text": [
      "[[ 0  1  2]\n",
      " [ 3  4  5]\n",
      " [ 6  7  8]\n",
      " [ 9 10 11]] \n",
      "\n",
      "切片之后，数组变为：\n",
      "[[ 4  5]\n",
      " [ 7  8]\n",
      " [10 11]] \n",
      "\n",
      "对列使用高级索引：\n",
      "[[ 4  5]\n",
      " [ 7  8]\n",
      " [10 11]]\n"
     ]
    }
   ],
   "source": [
    "x = np.array([[0,1,2],[3,4,5],[6,7,8],[9,10,11]])\n",
    "\n",
    "print x,'\\n'\n",
    "\n",
    "# 切片\n",
    "z = x[1:4,1:3]\n",
    "print \"切片之后，数组变为：\"\n",
    "print z,'\\n'\n",
    "\n",
    "# 对数组的列使用高级索引\n",
    "y = x[1:4,[1,2]]\n",
    "print \"对列使用高级索引：\"\n",
    "print y"
   ]
  },
  {
   "cell_type": "markdown",
   "metadata": {},
   "source": [
    "#### 2.2 布尔类型索引\n",
    "当产生的对象是布尔运算的结果时，例如比较运算符，就使用这种高级索引。"
   ]
  },
  {
   "cell_type": "code",
   "execution_count": 30,
   "metadata": {},
   "outputs": [
    {
     "name": "stdout",
     "output_type": "stream",
     "text": [
      "[[ 0  1  2]\n",
      " [ 3  4  5]\n",
      " [ 6  7  8]\n",
      " [ 9 10 11]] \n",
      "\n",
      "[[False False False]\n",
      " [False False False]\n",
      " [ True  True  True]\n",
      " [ True  True  True]] \n",
      "\n",
      "打印大于5的元素项：\n",
      "[ 6  7  8  9 10 11]\n"
     ]
    }
   ],
   "source": [
    "print x,'\\n'\n",
    "\n",
    "# 可以看出对ndarray对象进行布尔运算时，实际操纵的是对象当中的每一个项\n",
    "print x>5,'\\n' \n",
    "\n",
    "print \"打印大于5的元素项：\"\n",
    "print x[x>5]"
   ]
  },
  {
   "cell_type": "markdown",
   "metadata": {},
   "source": [
    "遇到NaN元素时，可以使用~（辅助操作符）将其忽略。"
   ]
  },
  {
   "cell_type": "code",
   "execution_count": 22,
   "metadata": {},
   "outputs": [
    {
     "name": "stdout",
     "output_type": "stream",
     "text": [
      "[ 1.  2.  3.  4.  5.]\n"
     ]
    }
   ],
   "source": [
    "a = np.array([np.nan,1,2,np.nan,3,4,5])\n",
    "print a[~np.isnan(a)]"
   ]
  },
  {
   "cell_type": "markdown",
   "metadata": {},
   "source": [
    "也可以将非复数元素从数组中过滤掉。"
   ]
  },
  {
   "cell_type": "code",
   "execution_count": 25,
   "metadata": {},
   "outputs": [
    {
     "name": "stdout",
     "output_type": "stream",
     "text": [
      "[ 2.0+6.j  3.5+5.j]\n"
     ]
    }
   ],
   "source": [
    "a = np.array([1,2+6j,5,3.5+5j])\n",
    "print a[np.iscomplex(a)]"
   ]
  },
  {
   "cell_type": "code",
   "execution_count": null,
   "metadata": {
    "collapsed": true
   },
   "outputs": [],
   "source": []
  }
 ],
 "metadata": {
  "kernelspec": {
   "display_name": "Python 2",
   "language": "python",
   "name": "python2"
  },
  "language_info": {
   "codemirror_mode": {
    "name": "ipython",
    "version": 2
   },
   "file_extension": ".py",
   "mimetype": "text/x-python",
   "name": "python",
   "nbconvert_exporter": "python",
   "pygments_lexer": "ipython2",
   "version": "2.7.13"
  }
 },
 "nbformat": 4,
 "nbformat_minor": 2
}
