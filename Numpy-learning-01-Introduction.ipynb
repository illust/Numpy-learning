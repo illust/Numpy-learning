{
 "cells": [
  {
   "cell_type": "markdown",
   "metadata": {},
   "source": [
    "# Numpy介绍"
   ]
  },
  {
   "cell_type": "markdown",
   "metadata": {},
   "source": [
    "Numpy是python的一个库。Numpy是'num-py'的缩写，即表示'numerical python'。它由多维数组对象以及数组处理的例程集合组成。  \n",
    "**使用numpy的好处**  \n",
    "- 对数组进行数学和逻辑操作\n",
    "- 傅立叶变换和形状操作的例程\n",
    "- Numpy拥有支持线性代数和随机数生成的内置函数  \n",
    "\n",
    "**Numpy—Matlab的替代品**  \n",
    "Numpy通常和Scipy(Scientific python)以及Matplotlib（绘图库）一起使用。它们之间的结合被广泛用来取代Matlab,Matlab是一个用于科学计算的流行平台。并且，因为开源特性，基于python的科学计算库现在似乎已经比Matlab更加流行和完整。当然，Matlab发展到今天，也有其优越性。  \n",
    " \n",
    "**安装**  \n",
    "具体的过程这里不再赘述，相信能够看到这里的都是爱折腾的读者。如果你电脑上安装了pip，可以比较方便地使用下列命令进行numpy的安装：\n",
    "```\n",
    "pip install numpy\n",
    "```\n",
    "当然也可以直接使用anaconda，它是用来进行科学计算的python发行版，已经预装好了很多python库，使用很方便。"
   ]
  },
  {
   "cell_type": "code",
   "execution_count": null,
   "metadata": {
    "collapsed": true
   },
   "outputs": [],
   "source": []
  }
 ],
 "metadata": {
  "kernelspec": {
   "display_name": "Python 2",
   "language": "python",
   "name": "python2"
  },
  "language_info": {
   "codemirror_mode": {
    "name": "ipython",
    "version": 2
   },
   "file_extension": ".py",
   "mimetype": "text/x-python",
   "name": "python",
   "nbconvert_exporter": "python",
   "pygments_lexer": "ipython2",
   "version": "2.7.13"
  }
 },
 "nbformat": 4,
 "nbformat_minor": 2
}
