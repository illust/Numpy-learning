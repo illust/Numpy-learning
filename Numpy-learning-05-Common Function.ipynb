{
 "cells": [
  {
   "cell_type": "markdown",
   "metadata": {},
   "source": [
    "# 1. 字符串函数\n",
    "下面的函数用于执行数组的矢量化字符串操作。它们是基于python内置库的标准字符串函数。\n",
    "<table class=\"table table-bordered\">\n",
    "<tbody><tr>\n",
    "<th style=\"text-align:center; width:10%\">Sr.No.</th>\n",
    "<th style=\"text-align:center;\">Function &amp; Description</th>\n",
    "</tr>\n",
    "<tr>\n",
    "<td class=\"ts\">1</td>\n",
    "<td><a href=\"/numpy/numpy_char_add.htm\">add()</a>\n",
    "<p>Returns element-wise string concatenation for two arrays of str or Unicode</p>\n",
    "</td>\n",
    "</tr>\n",
    "<tr>\n",
    "<td class=\"ts\">2</td>\n",
    "<td><a href=\"/numpy/numpy_char_multiply.htm\">multiply()</a>\n",
    "<p>Returns the string with multiple concatenation, element-wise</p>\n",
    "</td>\n",
    "</tr>\n",
    "<tr>\n",
    "<td class=\"ts\">3</td>\n",
    "<td><a href=\"/numpy/numpy_char_center.htm\">center()</a>\n",
    "<p>Returns a copy of the given string with elements centered in a string of specified length</p>\n",
    "</td>\n",
    "</tr>\n",
    "<tr>\n",
    "<td class=\"ts\">4</td>\n",
    "<td><a href=\"/numpy/numpy_char_capitalize.htm\">capitalize()</a>\n",
    "<p>Returns a copy of the string with only the first character capitalized</p>\n",
    "</td>\n",
    "</tr>\n",
    "<tr>\n",
    "<td class=\"ts\">5</td>\n",
    "<td><a href=\"/numpy/numpy_char_title.htm\">title()</a>\n",
    "<p>Returns the element-wise title cased version of the string or unicode</p>\n",
    "</td>\n",
    "</tr>\n",
    "<tr>\n",
    "<td class=\"ts\">6</td>\n",
    "<td><a href=\"/numpy/numpy_char_lower.htm\">lower()</a>\n",
    "<p>Returns an array with the elements converted to lowercase</p>\n",
    "</td>\n",
    "</tr>\n",
    "<tr>\n",
    "<td class=\"ts\">7</td>\n",
    "<td><a href=\"/numpy/numpy_char_upper.htm\">upper()</a>\n",
    "<p>Returns an array with the elements converted to uppercase</p>\n",
    "</td>\n",
    "</tr>\n",
    "<tr>\n",
    "<td class=\"ts\">8</td>\n",
    "<td><a href=\"/numpy/numpy_char_string_split.htm\">split()</a>\n",
    "<p>Returns a list of the words in the string, using separatordelimiter</p>\n",
    "</td>\n",
    "</tr>\n",
    "<tr>\n",
    "<td class=\"ts\">9</td>\n",
    "<td><a href=\"/numpy/numpy_char_splitlines.htm\">splitlines()</a>\n",
    "<p>Returns a list of the lines in the element, breaking at the line boundaries</p>\n",
    "</td>\n",
    "</tr>\n",
    "<tr>\n",
    "<td class=\"ts\">10</td>\n",
    "<td><a href=\"/numpy/numpy_char_strip.htm\">strip()</a>\n",
    "<p>Returns a copy with the leading and trailing characters removed</p>\n",
    "</td>\n",
    "</tr>\n",
    "<tr>\n",
    "<td class=\"ts\">11</td>\n",
    "<td><a href=\"/numpy/numpy_char_join.htm\">join()</a>\n",
    "<p>Returns a string which is the concatenation of the strings in the sequence</p>\n",
    "</td>\n",
    "</tr>\n",
    "<tr>\n",
    "<td class=\"ts\">12</td>\n",
    "<td><a href=\"/numpy/numpy_char_replace.htm\">replace()</a>\n",
    "<p>Returns a copy of the string with all occurrences of substring replaced by the new string</p>\n",
    "</td>\n",
    "</tr>\n",
    "<tr>\n",
    "<td class=\"ts\">13</td>\n",
    "<td><a href=\"/numpy/numpy_char_decode.htm\">decode()</a>\n",
    "<p>Calls str.decode element-wise</p>\n",
    "</td>\n",
    "</tr>\n",
    "<tr>\n",
    "<td class=\"ts\">14</td>\n",
    "<td><a href=\"/numpy/numpy_char_encode.htm\">encode()</a>\n",
    "<p>Calls str.encode element-wise</p>\n",
    "</td>\n",
    "</tr>\n",
    "</tbody></table>\n",
    "### 1.1 numpy.char.add()\n",
    "这个函数执行元素字符串连接。举例如下："
   ]
  },
  {
   "cell_type": "code",
   "execution_count": 1,
   "metadata": {},
   "outputs": [
    {
     "name": "stdout",
     "output_type": "stream",
     "text": [
      "Concatenate two strings:\n",
      "['hello xyz']\n",
      "\n",
      "\n",
      "Concatenation example:\n",
      "['hello abc' 'hi xyz']\n"
     ]
    }
   ],
   "source": [
    "import numpy as np\n",
    "print 'Concatenate two strings:'\n",
    "print np.char.add(['hello'],[' xyz'])\n",
    "print '\\n'\n",
    "\n",
    "print 'Concatenation example:'\n",
    "print np.char.add(['hello','hi'],[' abc',' xyz'])"
   ]
  },
  {
   "cell_type": "markdown",
   "metadata": {},
   "source": [
    "### 1.2 numpy.char.multiply()\n",
    "这个函数执行多重连接。"
   ]
  },
  {
   "cell_type": "code",
   "execution_count": 2,
   "metadata": {},
   "outputs": [
    {
     "name": "stdout",
     "output_type": "stream",
     "text": [
      "Hello Hello Hello \n"
     ]
    }
   ],
   "source": [
    "print np.char.multiply('Hello ',3)"
   ]
  },
  {
   "cell_type": "markdown",
   "metadata": {},
   "source": [
    "### 1.3 numpy.char.center()\n",
    "此函数返回所需宽度的数组，以便输入字符串居中并用``fillchar``填充左侧和右侧。\n",
    "函数原型：\n",
    "```python\n",
    "numpy.char.center(arr,width,fillchar)\n",
    "```"
   ]
  },
  {
   "cell_type": "code",
   "execution_count": 3,
   "metadata": {},
   "outputs": [
    {
     "name": "stdout",
     "output_type": "stream",
     "text": [
      "*******hello********\n"
     ]
    }
   ],
   "source": [
    "print np.char.center('hello',20,fillchar='*')"
   ]
  },
  {
   "cell_type": "markdown",
   "metadata": {},
   "source": [
    "### 1.4 numpy.char.capitalize()\n",
    "这个函数返回第一个字符大写的字符串的拷贝。\n"
   ]
  },
  {
   "cell_type": "code",
   "execution_count": 4,
   "metadata": {},
   "outputs": [
    {
     "name": "stdout",
     "output_type": "stream",
     "text": [
      "Hello world\n"
     ]
    }
   ],
   "source": [
    "print np.char.capitalize('hello world')"
   ]
  },
  {
   "cell_type": "markdown",
   "metadata": {},
   "source": [
    "### 1.5 numpy.char.title()\n",
    "该函数返回输入字符串的标题封装版本，每个单词的首字母大写。"
   ]
  },
  {
   "cell_type": "code",
   "execution_count": 5,
   "metadata": {},
   "outputs": [
    {
     "name": "stdout",
     "output_type": "stream",
     "text": [
      "Hello How Are You?\n"
     ]
    }
   ],
   "source": [
    "print np.char.title('hello how are you?')"
   ]
  },
  {
   "cell_type": "markdown",
   "metadata": {},
   "source": [
    "### 1.6 numpy.char.lower()/upper()\n",
    "该函数返回所有元素转换为小/大写的数组。"
   ]
  },
  {
   "cell_type": "code",
   "execution_count": 7,
   "metadata": {},
   "outputs": [
    {
     "name": "stdout",
     "output_type": "stream",
     "text": [
      "['hello' 'world']\n",
      "HELLO\n"
     ]
    }
   ],
   "source": [
    "print np.char.lower(['HELLO','WORLD'])\n",
    "print np.char.upper('hello')"
   ]
  },
  {
   "cell_type": "markdown",
   "metadata": {},
   "source": [
    "### 1.7 numpy.char.split()\n",
    "该函数返回输入字符串中的单词列表。默认情况下，使用空格作为分隔符。否则使用指定的分隔符来分割字符串。"
   ]
  },
  {
   "cell_type": "code",
   "execution_count": 8,
   "metadata": {},
   "outputs": [
    {
     "name": "stdout",
     "output_type": "stream",
     "text": [
      "['hello', 'how', 'are', 'you?']\n",
      "['TutorialsPoint', 'Hyderabad', 'Telangana']\n"
     ]
    }
   ],
   "source": [
    "print np.char.split('hello how are you?')\n",
    "print np.char.split('TutorialsPoint,Hyderabad,Telangana',sep=',')"
   ]
  },
  {
   "cell_type": "markdown",
   "metadata": {},
   "source": [
    "### 1.8 numpy.char.splitlines()\n",
    "该函数返回数组中元素的列表，在行末进行分割。"
   ]
  },
  {
   "cell_type": "code",
   "execution_count": 12,
   "metadata": {},
   "outputs": [
    {
     "name": "stdout",
     "output_type": "stream",
     "text": [
      "['hello', 'how are you?']\n",
      "['hello', 'how are you?']\n"
     ]
    }
   ],
   "source": [
    "print np.char.splitlines('hello\\nhow are you?')\n",
    "print np.char.splitlines('hello\\rhow are you?')"
   ]
  },
  {
   "cell_type": "markdown",
   "metadata": {},
   "source": [
    "### 1.9 numpy.char.strip()\n",
    "这个函数返回一个数组的一个拷贝，其中元素被移除了指定字符的前导和/或尾随。"
   ]
  },
  {
   "cell_type": "code",
   "execution_count": 14,
   "metadata": {},
   "outputs": [
    {
     "name": "stdout",
     "output_type": "stream",
     "text": [
      "shok aror\n",
      "['ror' 'dmin' 'jav']\n"
     ]
    }
   ],
   "source": [
    "print np.char.strip('ashok arora','a')\n",
    "print np.char.strip(['arora','admin','java'],'a')"
   ]
  },
  {
   "cell_type": "markdown",
   "metadata": {},
   "source": [
    "### 1.10 numpy.char.join()\n",
    "此方法返回一个字符串，其中各个字符通过指定的分隔符连接。\n"
   ]
  },
  {
   "cell_type": "code",
   "execution_count": 28,
   "metadata": {},
   "outputs": [
    {
     "name": "stdout",
     "output_type": "stream",
     "text": [
      "d:m:y\n",
      "d:m:y\n",
      "['d:m:y' 'y-m-d']\n"
     ]
    }
   ],
   "source": [
    "print np.char.join(':','dmy')\n",
    "# 使用python内置字符串方法\n",
    "print (':').join(('d','m','y'))\n",
    "\n",
    "print np.char.join([':','-'],['dmy','ymd'])"
   ]
  },
  {
   "cell_type": "markdown",
   "metadata": {},
   "source": [
    "### 1.11 numpy.char.replace()\n",
    "此函数返回输入字符串的新副本，其中所有出现的字符序列都被另一个给定的序列替换。"
   ]
  },
  {
   "cell_type": "code",
   "execution_count": 29,
   "metadata": {},
   "outputs": [
    {
     "name": "stdout",
     "output_type": "stream",
     "text": [
      "He was a good boy\n"
     ]
    }
   ],
   "source": [
    "print np.char.replace('He is a good boy','is','was')"
   ]
  },
  {
   "cell_type": "markdown",
   "metadata": {},
   "source": [
    "### 1.12 numpy.char.encode()/decode()\n",
    "np.char.encode()对数组中每个元素调用str.encode函数，默认编码是utf_8，可以使用标准Python库中的编解码器。  \n",
    "np.char.decode()使用指定的编解码器对给出的字符串进行解码。"
   ]
  },
  {
   "cell_type": "code",
   "execution_count": 30,
   "metadata": {},
   "outputs": [
    {
     "name": "stdout",
     "output_type": "stream",
     "text": [
      "�����\n",
      "hello\n"
     ]
    }
   ],
   "source": [
    "a = np.char.encode('hello','cp500')\n",
    "print a\n",
    "print np.char.decode(a,'cp500')"
   ]
  },
  {
   "cell_type": "markdown",
   "metadata": {},
   "source": [
    "# 2. 数学函数\n",
    "理所当然的是，NumPy包含了大量的各种数学运算。NumPy提供标准的三角函数，算术运算函数，处理复数等。\n",
    "### 2.1 三角函数\n",
    "NumPy具有标准的三角函数，以弧度返回给定角度的三角比例。"
   ]
  },
  {
   "cell_type": "code",
   "execution_count": 31,
   "metadata": {},
   "outputs": [
    {
     "name": "stdout",
     "output_type": "stream",
     "text": [
      "Sine of different angles:\n",
      "[ 0.          0.5         0.70710678  0.8660254   1.        ] \n",
      "\n",
      "Cosine values for angles in array:\n",
      "[  1.00000000e+00   8.66025404e-01   7.07106781e-01   5.00000000e-01\n",
      "   6.12323400e-17] \n",
      "\n",
      "Tangent value for given angles:\n",
      "[  0.00000000e+00   5.77350269e-01   1.00000000e+00   1.73205081e+00\n",
      "   1.63312394e+16]\n"
     ]
    }
   ],
   "source": [
    "a = np.array([0,30,45,60,90])\n",
    "\n",
    "print 'Sine of different angles:'\n",
    "# convert to radians by multiplying with pi/180\n",
    "print np.sin(a*np.pi/180),'\\n'\n",
    "\n",
    "print 'Cosine values for angles in array:'\n",
    "print np.cos(a*np.pi/180),'\\n'\n",
    "\n",
    "print 'Tangent value for given angles:'\n",
    "print np.tan(a*np.pi/180)"
   ]
  },
  {
   "cell_type": "markdown",
   "metadata": {},
   "source": [
    "arcsin，arcos和arctan函数返回给定角度的sin，cos和tan的三角函数的倒数（反三角函数）。这些函数的结果可以通过numpy.degrees()函数将弧度转换为度来验证。举例省略。"
   ]
  },
  {
   "cell_type": "markdown",
   "metadata": {},
   "source": [
    "### 2.2 四舍五入"
   ]
  },
  {
   "cell_type": "markdown",
   "metadata": {},
   "source": [
    "#### 2.2.1 numpy.around()\n",
    "这是一个返回四舍五入到所需精度的函数。原型如下：\n",
    "```python\n",
    "numpy.around(a,decimals)\n",
    "```\n",
    "参数描述：\n",
    "<table class=\"table table-bordered\">\n",
    "<tbody><tr>\n",
    "<th style=\"text-align:center; width:10%\">Sr.No.</th>\n",
    "<th style=\"text-align:center;\">Parameter &amp; Description</th>\n",
    "</tr>\n",
    "<tr>\n",
    "<td class=\"ts\">1</td>\n",
    "<td><p><b>a</b></p>\n",
    "<p>Input data</p>\n",
    "</td>\n",
    "</tr>\n",
    "<tr>\n",
    "<td class=\"ts\">2</td>\n",
    "<td><p><b>decimals</b></p>\n",
    "<p>The number of decimals to round to. Default is 0. If negative, the integer is rounded to position to the left of the decimal point</p>\n",
    "</td>\n",
    "</tr>\n",
    "</tbody></table>"
   ]
  },
  {
   "cell_type": "code",
   "execution_count": 32,
   "metadata": {},
   "outputs": [
    {
     "name": "stdout",
     "output_type": "stream",
     "text": [
      "Original array:\n",
      "[   1.       5.55   123.       0.567   25.532] \n",
      "\n",
      "After rounding:\n",
      "[   1.    6.  123.    1.   26.]\n",
      "[   1.     5.6  123.     0.6   25.5]\n",
      "[   0.   10.  120.    0.   30.]\n"
     ]
    }
   ],
   "source": [
    "a = np.array([1.0,5.55,123,0.567,25.532])\n",
    "\n",
    "print 'Original array:'\n",
    "print a,'\\n'\n",
    "\n",
    "print 'After rounding:'\n",
    "print np.around(a)\n",
    "print np.around(a,decimals=1)\n",
    "print np.around(a,decimals=-1)"
   ]
  },
  {
   "cell_type": "markdown",
   "metadata": {},
   "source": [
    "#### 2.2.2 numpy.floor()/ceil()\n",
    "这两个函数分别返回不大于输入参数的最大整数以及大于输入参数的最小整数。举例略。"
   ]
  },
  {
   "cell_type": "markdown",
   "metadata": {},
   "source": [
    "# 3. 算术操作\n",
    "### 3.1 加减乘除\n",
    "输入的两个数组执行此类操作的前提是形状必须相同，或者满足数组广播机制。"
   ]
  },
  {
   "cell_type": "code",
   "execution_count": 33,
   "metadata": {},
   "outputs": [
    {
     "name": "stdout",
     "output_type": "stream",
     "text": [
      "First array:\n",
      "[[ 0.  1.  2.]\n",
      " [ 3.  4.  5.]\n",
      " [ 6.  7.  8.]] \n",
      "\n",
      "Second array:\n",
      "[10 10 10] \n",
      "\n",
      "Add the two arrays:\n",
      "[[ 10.  11.  12.]\n",
      " [ 13.  14.  15.]\n",
      " [ 16.  17.  18.]] \n",
      "\n",
      "Subtract the two arrays:\n",
      "[[-10.  -9.  -8.]\n",
      " [ -7.  -6.  -5.]\n",
      " [ -4.  -3.  -2.]] \n",
      "\n",
      "Multiply the two arrays:\n",
      "[[  0.  10.  20.]\n",
      " [ 30.  40.  50.]\n",
      " [ 60.  70.  80.]] \n",
      "\n",
      "Divide the two arrays:\n",
      "[[ 0.   0.1  0.2]\n",
      " [ 0.3  0.4  0.5]\n",
      " [ 0.6  0.7  0.8]]\n"
     ]
    }
   ],
   "source": [
    "a = np.arange(9,dtype=np.float_).reshape(3,3)\n",
    "\n",
    "print 'First array:'\n",
    "print a,'\\n'\n",
    "\n",
    "print 'Second array:'\n",
    "b = np.array([10,10,10])\n",
    "print b,'\\n'\n",
    "\n",
    "print 'Add the two arrays:'\n",
    "print np.add(a,b),'\\n'\n",
    "\n",
    "print 'Subtract the two arrays:'\n",
    "print np.subtract(a,b),'\\n'\n",
    "\n",
    "print 'Multiply the two arrays:'\n",
    "print np.multiply(a,b),'\\n'\n",
    "\n",
    "print 'Divide the two arrays:'\n",
    "print np.divide(a,b)"
   ]
  },
  {
   "cell_type": "markdown",
   "metadata": {},
   "source": [
    "下面讨论其他一些numpy中比较重要的算术运算函数。\n",
    "### 3.2 numpy.reciprocal()\n",
    "这个函数返回元素的参数的倒数。**对于绝对值大于1的元素，由于Python处理整数除法的方式，结果总是为0。**对于整数0，发出溢出警告。"
   ]
  },
  {
   "cell_type": "code",
   "execution_count": 34,
   "metadata": {},
   "outputs": [
    {
     "name": "stdout",
     "output_type": "stream",
     "text": [
      "Our array is:\n",
      "[   0.25    1.33    1.      0.    100.  ] \n",
      "\n",
      "After applying reciprocal func:\n",
      "[ 4.         0.7518797  1.               inf  0.01     ] \n",
      "\n",
      "The second array is:\n",
      "[100] \n",
      "\n",
      "After applying reciprocal func:\n",
      "[0]\n"
     ]
    },
    {
     "name": "stderr",
     "output_type": "stream",
     "text": [
      "E:\\Software\\Anaconda2\\lib\\site-packages\\ipykernel_launcher.py:6: RuntimeWarning: divide by zero encountered in reciprocal\n",
      "  \n"
     ]
    }
   ],
   "source": [
    "a = np.array([0.25,1.33,1,0,100])\n",
    "print 'Our array is:'\n",
    "print a,'\\n'\n",
    "\n",
    "print 'After applying reciprocal func:'\n",
    "print np.reciprocal(a),'\\n'\n",
    "\n",
    "b = np.array([100],dtype=int)\n",
    "print 'The second array is:'\n",
    "print b,'\\n'\n",
    "\n",
    "print 'After applying reciprocal func:'\n",
    "print np.reciprocal(b)"
   ]
  },
  {
   "cell_type": "markdown",
   "metadata": {},
   "source": [
    "### 3.3 numpy.power()"
   ]
  },
  {
   "cell_type": "code",
   "execution_count": 36,
   "metadata": {},
   "outputs": [
    {
     "name": "stdout",
     "output_type": "stream",
     "text": [
      "Our array is:\n",
      "[  10  100 1000] \n",
      "\n",
      "Applying power func:\n",
      "[    100   10000 1000000] \n",
      "\n"
     ]
    }
   ],
   "source": [
    "a = np.array([10,100,1000])\n",
    "print 'Our array is:'\n",
    "print a,'\\n'\n",
    "\n",
    "print 'Applying power func:'\n",
    "print np.power(a,2),'\\n'"
   ]
  },
  {
   "cell_type": "markdown",
   "metadata": {},
   "source": [
    "### 3.4 numpy.mod()\n",
    "该函数返回输入数组中相应元素的除法余数。函数numpy.remainder()也有同样的效果。"
   ]
  },
  {
   "cell_type": "code",
   "execution_count": 37,
   "metadata": {},
   "outputs": [
    {
     "name": "stdout",
     "output_type": "stream",
     "text": [
      "First array:\n",
      "[10 20 30] \n",
      "\n",
      "Second array:\n",
      "[3 5 7] \n",
      "\n",
      "Applying mod() func:\n",
      "[1 0 2] \n",
      "\n",
      "Apply remainder() func:\n",
      "[1 0 2]\n"
     ]
    }
   ],
   "source": [
    "a = np.array([10,20,30])\n",
    "b = np.array([3,5,7])\n",
    "\n",
    "print 'First array:'\n",
    "print a,'\\n'\n",
    "\n",
    "print 'Second array:'\n",
    "print b,'\\n'\n",
    "\n",
    "print 'Applying mod() func:'\n",
    "print np.mod(a,b),'\\n'\n",
    "\n",
    "print 'Apply remainder() func:'\n",
    "print np.remainder(a,b)"
   ]
  },
  {
   "cell_type": "markdown",
   "metadata": {},
   "source": [
    "还有一些用于操作复数的函数，比如：\n",
    "- numpy.real() \n",
    "- numpy.imag()\n",
    "- numpy.conj()\n",
    "- numpy.angle()\n",
    "\n",
    "示例在此省略。"
   ]
  },
  {
   "cell_type": "markdown",
   "metadata": {},
   "source": [
    "# 4. 统计函数\n",
    "NumPy具有相当多的有用的统计函数，用于从数组中的给定元素中找出最小值，最大值，百分位标准偏差和方差等。  \n",
    "### 4.1 numpy.amin()/amax()\n",
    "这些函数返回给定数组中沿指定轴的元素的最小值和最大值。"
   ]
  },
  {
   "cell_type": "code",
   "execution_count": 38,
   "metadata": {},
   "outputs": [
    {
     "name": "stdout",
     "output_type": "stream",
     "text": [
      "Our array is:\n",
      "[[3 7 5]\n",
      " [8 4 3]\n",
      " [2 4 9]] \n",
      "\n",
      "Applying amin() func:\n",
      "[3 3 2] \n",
      "\n",
      "Applying amin() func again:\n",
      "[2 4 3] \n",
      "\n",
      "Applying amax() func:\n",
      "9 \n",
      "\n",
      "Applying amax() func again:\n",
      "[8 7 9]\n"
     ]
    }
   ],
   "source": [
    "a = np.array([[3,7,5],[8,4,3],[2,4,9]])\n",
    "print 'Our array is:'\n",
    "print a,'\\n'\n",
    "\n",
    "print 'Applying amin() func:'\n",
    "print np.amin(a,1),'\\n'\n",
    "\n",
    "print 'Applying amin() func again:'\n",
    "print np.amin(a,0),'\\n'\n",
    "\n",
    "print 'Applying amax() func:'\n",
    "print np.amax(a),'\\n'\n",
    "\n",
    "print 'Applying amax() func again:'\n",
    "print np.amax(a,axis=0)"
   ]
  },
  {
   "cell_type": "markdown",
   "metadata": {},
   "source": [
    "### 4.2 numpy.ptp()\n",
    "该函数返回沿指定轴的值的范围（最大值 - 最小值）。"
   ]
  },
  {
   "cell_type": "code",
   "execution_count": 40,
   "metadata": {},
   "outputs": [
    {
     "name": "stdout",
     "output_type": "stream",
     "text": [
      "Our array is:\n",
      "[[3 7 5]\n",
      " [8 4 3]\n",
      " [2 4 9]]\n",
      "\n",
      "\n",
      "Applying ptp() function:\n",
      "7 \n",
      "\n",
      "Applying ptp() func along axis 1(row):\n",
      "[4 5 7] \n",
      "\n",
      "Applying ptp() func along axis 0(column):\n",
      "[6 3 6]\n"
     ]
    }
   ],
   "source": [
    "a = np.array([[3,7,5],[8,4,3],[2,4,9]]) \n",
    "\n",
    "print 'Our array is:' \n",
    "print a \n",
    "print '\\n'  \n",
    "\n",
    "print 'Applying ptp() function:' \n",
    "print np.ptp(a),'\\n'\n",
    "\n",
    "print 'Applying ptp() func along axis 1(row):'\n",
    "print np.ptp(a,axis=1),'\\n'\n",
    "\n",
    "print 'Applying ptp() func along axis 0(column):'\n",
    "print np.ptp(a,axis=0)"
   ]
  },
  {
   "cell_type": "markdown",
   "metadata": {},
   "source": [
    "### 4.3 numpy.percentile()\n",
    "百分位数（或百分位数）是统计学中使用的一种度量，表示在一组观测值中给定百分比的观测值下降的值。此函数原型如下：\n",
    "```python\n",
    "numpy.percentile(a,q,axis)\n",
    "```\n",
    "参数描述：\n",
    "<table class=\"table table-bordered\">\n",
    "<tbody><tr>\n",
    "<th style=\"text-align:center;width:10%\">Sr.No.</th>\n",
    "<th style=\"text-align:center;\">Argument &amp; Description</th>\n",
    "</tr>\n",
    "<tr>\n",
    "<td class=\"ts\">1</td>\n",
    "<td><p><b>a</b></p>\n",
    "<p>Input array</p>\n",
    "</td>\n",
    "</tr>\n",
    "<tr>\n",
    "<td class=\"ts\">2</td>\n",
    "<td><p><b>q</b></p>\n",
    "<p>The percentile to compute must be between 0-100</p>\n",
    "</td>\n",
    "</tr>\n",
    "<tr>\n",
    "<td class=\"ts\">3</td>\n",
    "<td><p><b>axis</b></p>\n",
    "<p>The axis along which the percentile is to be calculated</p>\n",
    "</td>\n",
    "</tr>\n",
    "</tbody></table>"
   ]
  },
  {
   "cell_type": "code",
   "execution_count": 49,
   "metadata": {},
   "outputs": [
    {
     "name": "stdout",
     "output_type": "stream",
     "text": [
      "Our array is:\n",
      "[[30 40 70]\n",
      " [80 20 10]]\n",
      "\n",
      "\n",
      "Applying percentile() function:\n",
      "35.0 \n",
      "\n",
      "Applying percentile() func along axis 1(row):\n",
      "[ 40.  20.]\n",
      "Applying percentile() func along axis 0(column):\n",
      "[ 55.  30.  40.]\n"
     ]
    }
   ],
   "source": [
    "a = np.array([[30,40,70],[80,20,10]]) \n",
    "\n",
    "print 'Our array is:' \n",
    "print a \n",
    "print '\\n'  \n",
    "\n",
    "print 'Applying percentile() function:'\n",
    "print np.percentile(a,50),'\\n'\n",
    "\n",
    "print 'Applying percentile() func along axis 1(row):'\n",
    "print np.percentile(a,50,axis=1)\n",
    "\n",
    "print 'Applying percentile() func along axis 0(column):'\n",
    "print np.percentile(a,50,axis=0)"
   ]
  },
  {
   "cell_type": "markdown",
   "metadata": {},
   "source": [
    "这里看SO半天没搞明白，本想借助查找英文答案提高英语阅读水平，却本末倒置，忽略了对知识本身的了解。所以，查到了一篇CSDN上的[博文](http://blog.csdn.net/NockinOnHeavensDoor/article/details/78765556)，才对这个小知识点有所参悟。在此吸取一个教训，**不管黑猫白猫，能抓到老鼠就是好猫**。  \n",
    "要想明白np.percentile()函数，首先明确百分位数：第p个百分位数是这样一个值，它使得至少有p%的数据项小于或等于这个值，且至少有(100-p)%的数据项大于或等于这个值。具体参见上面链接。"
   ]
  },
  {
   "cell_type": "markdown",
   "metadata": {},
   "source": [
    "### 4.4 numpy.median()\n",
    "中位数被定义为将数据样本的高半部分与下半部分分开的值。"
   ]
  },
  {
   "cell_type": "code",
   "execution_count": 53,
   "metadata": {},
   "outputs": [
    {
     "name": "stdout",
     "output_type": "stream",
     "text": [
      "Our array is:\n",
      "[[30 65 70]\n",
      " [80 95 10]] \n",
      "\n",
      "Applying median() func:\n",
      "67.5 \n",
      "\n",
      "Applying median() func along axis 0:\n",
      "[ 55.  80.  40.]\n",
      "Applying median() func along axis 1:\n",
      "[ 65.  80.]\n",
      "[ 65.  80.]\n"
     ]
    }
   ],
   "source": [
    "a = np.array([[30,65,70],[80,95,10]])\n",
    "print 'Our array is:'\n",
    "print a,'\\n'\n",
    "\n",
    "print 'Applying median() func:'\n",
    "print np.median(a),'\\n'\n",
    "\n",
    "print 'Applying median() func along axis 0:'\n",
    "print np.median(a,axis=0)\n",
    "\n",
    "print 'Applying median() func along axis 1:'\n",
    "print np.median(a,axis=1)\n",
    "\n",
    "# return 50th percentile, equal to median()\n",
    "print np.percentile(a,50,axis=1)"
   ]
  },
  {
   "cell_type": "markdown",
   "metadata": {},
   "source": [
    "### 4.5 numpy.mean()\n",
    "算术平均值是沿轴的元素总和除以元素的数量。 numpy.mean()函数返回数组中元素的算术平均值。如果提到轴，则沿着它进行计算。"
   ]
  },
  {
   "cell_type": "code",
   "execution_count": 54,
   "metadata": {},
   "outputs": [
    {
     "name": "stdout",
     "output_type": "stream",
     "text": [
      "Our array is:\n",
      "[[1 2 3]\n",
      " [3 4 5]] \n",
      "\n",
      "Applying mean() func:\n",
      "3.0 \n",
      "\n",
      "Applying mean() func along axis 0:\n",
      "[ 2.  3.  4.] \n",
      "\n",
      "Applying mean() func along axis 1:\n",
      "[ 2.  4.]\n"
     ]
    }
   ],
   "source": [
    "a = np.array([[1,2,3],[3,4,5]]) \n",
    "\n",
    "print 'Our array is:' \n",
    "print a,'\\n'\n",
    "\n",
    "print 'Applying mean() func:'\n",
    "print np.mean(a),'\\n'\n",
    "\n",
    "print 'Applying mean() func along axis 0:'\n",
    "print np.mean(a,axis=0),'\\n'\n",
    "\n",
    "print 'Applying mean() func along axis 1:'\n",
    "print np.mean(a,axis=1)"
   ]
  },
  {
   "cell_type": "code",
   "execution_count": null,
   "metadata": {
    "collapsed": true
   },
   "outputs": [],
   "source": []
  }
 ],
 "metadata": {
  "kernelspec": {
   "display_name": "Python 2",
   "language": "python",
   "name": "python2"
  },
  "language_info": {
   "codemirror_mode": {
    "name": "ipython",
    "version": 2
   },
   "file_extension": ".py",
   "mimetype": "text/x-python",
   "name": "python",
   "nbconvert_exporter": "python",
   "pygments_lexer": "ipython2",
   "version": "2.7.13"
  }
 },
 "nbformat": 4,
 "nbformat_minor": 2
}
