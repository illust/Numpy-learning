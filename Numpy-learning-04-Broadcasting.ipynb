{
 "cells": [
  {
   "cell_type": "markdown",
   "metadata": {},
   "source": [
    "# 1. 广播特性\n",
    "“广播”一词指的是numpy处理不同形状数组在算术运算时的能力。数组上的算术运算通常是对应的元素相计算，如果两个阵列的形状完全相同，则这些操作可以顺利进行。"
   ]
  },
  {
   "cell_type": "code",
   "execution_count": 2,
   "metadata": {},
   "outputs": [
    {
     "name": "stdout",
     "output_type": "stream",
     "text": [
      "[ 10  40  90 160]\n"
     ]
    }
   ],
   "source": [
    "import numpy as np\n",
    "\n",
    "a =  np.array([1,2,3,4])\n",
    "b = np.array([10,20,30,40])\n",
    "c = a * b\n",
    "print c"
   ]
  },
  {
   "cell_type": "markdown",
   "metadata": {},
   "source": [
    "因为numpy中广播特性的存在，它使不同类型的数组运算成为可能。较小的阵列广播到较大阵列的大小，以便它们具有兼容的形状。下面是适用于broadcasting特性的几种情况：\n",
    "- 具有较小ndim的数组在其形状上预置有“1”。\n",
    "- 输出形状的每个维度中的大小是该维度中输入大小的最大值。\n",
    "- 输入可用于计算，如果其大小在特定维度上与输出大小匹配或其值恰好为1。\n",
    "- 如果输入的维度大小为1，则该维度中的第一个数据条目将用于沿该维度的所有计算。\n",
    "\n",
    "如果上述规则产生有效的结果并且下列之一成立，则称一组数据是可广播的：\n",
    "- 数组的形状完全一样。 \n",
    "- 数组具有相同的维度数量，每个维度的长度可以是常用长度或1。\n",
    "- 具有太小尺寸的阵列可以将其形状预先设定为长度为1的尺寸，以使上述属性为真。\n",
    "\n",
    "下面的程序展示了一个广播特性的例子："
   ]
  },
  {
   "cell_type": "code",
   "execution_count": 5,
   "metadata": {},
   "outputs": [
    {
     "name": "stdout",
     "output_type": "stream",
     "text": [
      "[[  0.   0.   0.]\n",
      " [ 10.  10.  10.]\n",
      " [ 20.  20.  20.]\n",
      " [ 30.  30.  30.]] \n",
      "\n",
      "[ 1.  2.  3.] \n",
      "\n",
      "[[  1.   2.   3.]\n",
      " [ 11.  12.  13.]\n",
      " [ 21.  22.  23.]\n",
      " [ 31.  32.  33.]]\n"
     ]
    }
   ],
   "source": [
    "a = np.array([[0.0,0.0,0.0],[10.0,10.0,10.0],[20.0,20.0,20.0],[30.0,30.0,30.0]])\n",
    "b = np.array([1.0,2.0,3.0])\n",
    "\n",
    "print a,'\\n'\n",
    "print b,'\\n'\n",
    "print a+b"
   ]
  },
  {
   "cell_type": "markdown",
   "metadata": {},
   "source": [
    "下面的图示解释了数组b是如何通过广播变为与a兼容的。\n",
    "![broadcasting](https://www.tutorialspoint.com/numpy/images/array.jpg)"
   ]
  },
  {
   "cell_type": "markdown",
   "metadata": {},
   "source": [
    "# 2. 迭代数组\n",
    "Numpy库中包含一个迭代器对象np.nditer。这是一个高效的多维迭代器对象，使用它可以遍历数组。它使用python中的标准迭代器接口访问数组中的每一个元素。  \n",
    "下面示例使用了np.arange()创建了一个3x4的数组，并且使用nditer对它进行迭代。"
   ]
  },
  {
   "cell_type": "code",
   "execution_count": 11,
   "metadata": {},
   "outputs": [
    {
     "name": "stdout",
     "output_type": "stream",
     "text": [
      "原始数组是：\n",
      "[[ 0  5 10 15]\n",
      " [20 25 30 35]\n",
      " [40 45 50 55]] \n",
      "\n",
      "修改的数组是：\n",
      "0 5 10 15 20 25 30 35 40 45 50 55 \n",
      "\n",
      "原始数组的转置为：\n",
      "[[ 0 20 40]\n",
      " [ 5 25 45]\n",
      " [10 30 50]\n",
      " [15 35 55]] \n",
      "\n",
      "修改的数组是：\n",
      "0 5 10 15 20 25 30 35 40 45 50 55\n"
     ]
    }
   ],
   "source": [
    "import numpy as np\n",
    "a = np.arange(0,60,5).reshape(3,4)\n",
    "\n",
    "print \"原始数组是：\"\n",
    "print a,'\\n'\n",
    "\n",
    "print \"修改的数组是：\"\n",
    "for x in np.nditer(a):\n",
    "    print x,\n",
    "print '\\n'   \n",
    "\n",
    "# 对数组转置的遍历结果也类似\n",
    "b = a.T\n",
    "print \"原始数组的转置为：\"\n",
    "print b,'\\n'\n",
    "print \"修改的数组是：\"\n",
    "for x in np.nditer(b):\n",
    "    print x,"
   ]
  },
  {
   "cell_type": "markdown",
   "metadata": {},
   "source": [
    "## 2.1 迭代顺序\n",
    "如果使用F样式顺序存储相同的元素，则迭代器会选择更有效的迭代数组的方法。"
   ]
  },
  {
   "cell_type": "code",
   "execution_count": 14,
   "metadata": {},
   "outputs": [
    {
     "name": "stdout",
     "output_type": "stream",
     "text": [
      "原始数组：\n",
      "[[ 0 20 40]\n",
      " [ 5 25 45]\n",
      " [10 30 50]\n",
      " [15 35 55]] \n",
      "\n",
      "以C样式顺序排序：\n",
      "[[ 0 20 40]\n",
      " [ 5 25 45]\n",
      " [10 30 50]\n",
      " [15 35 55]]\n",
      "0 20 40 5 25 45 10 30 50 15 35 55 \n",
      "\n",
      "以F样式顺序排序：\n",
      "[[ 0 20 40]\n",
      " [ 5 25 45]\n",
      " [10 30 50]\n",
      " [15 35 55]]\n",
      "0 5 10 15 20 25 30 35 40 45 50 55\n"
     ]
    }
   ],
   "source": [
    "print \"原始数组：\"\n",
    "print b,'\\n'\n",
    "\n",
    "print \"以C样式顺序排序：\"\n",
    "c = b.copy(order='C')\n",
    "print c\n",
    "for x in np.nditer(c):\n",
    "    print x,\n",
    "print '\\n'\n",
    "\n",
    "print \"以F样式顺序排序：\"\n",
    "c = b.copy(order='F')\n",
    "print c\n",
    "for x in np.nditer(c):\n",
    "    print x,"
   ]
  },
  {
   "cell_type": "markdown",
   "metadata": {},
   "source": [
    "可以通过明确地提到nditer对象来使用特定的顺序。"
   ]
  },
  {
   "cell_type": "code",
   "execution_count": 15,
   "metadata": {},
   "outputs": [
    {
     "name": "stdout",
     "output_type": "stream",
     "text": [
      "原始数组：\n",
      "[[ 0  5 10 15]\n",
      " [20 25 30 35]\n",
      " [40 45 50 55]] \n",
      "\n",
      "以F样式顺序排序：\n",
      "0 20 40 5 25 45 10 30 50 15 35 55 \n",
      "\n"
     ]
    }
   ],
   "source": [
    "print \"原始数组：\"\n",
    "print a,'\\n'\n",
    "\n",
    "print \"以F样式顺序排序：\"\n",
    "for x in np.nditer(a,order='F'):\n",
    "    print x,\n",
    "print '\\n'"
   ]
  },
  {
   "cell_type": "markdown",
   "metadata": {},
   "source": [
    "## 2.2 修改数组元素值\n",
    "nditer对象有另一个可选参数：op_flags。它的默认值是read-only的，但是可以设置为read-write或者write-only模式。这将使用这个迭代器来修改数组元素。"
   ]
  },
  {
   "cell_type": "code",
   "execution_count": 17,
   "metadata": {},
   "outputs": [
    {
     "name": "stdout",
     "output_type": "stream",
     "text": [
      "原始数组：\n",
      "[[  0  10  20  30]\n",
      " [ 40  50  60  70]\n",
      " [ 80  90 100 110]] \n",
      "\n",
      "修改的数组：\n",
      "[[  0  20  40  60]\n",
      " [ 80 100 120 140]\n",
      " [160 180 200 220]]\n"
     ]
    }
   ],
   "source": [
    "print \"原始数组：\"\n",
    "print a,'\\n'\n",
    "\n",
    "for x in np.nditer(a,op_flags=['readwrite']):\n",
    "    x[...] = 2 * x\n",
    "print \"修改的数组：\"\n",
    "print a"
   ]
  },
  {
   "cell_type": "markdown",
   "metadata": {},
   "source": [
    "## 2.3 外部循环\n",
    "<table class=\"table table-bordered\">\n",
    "<tbody><tr>\n",
    "<th style=\"text-align:center;width:10%;\">Sr.No.</th>\n",
    "<th style=\"text-align:center;\">Parameter &amp; Description</th>\n",
    "</tr>\n",
    "<tr>\n",
    "<td class=\"ts\">1</td>\n",
    "<td><p><b>c_index</b></p>\n",
    "<p>C_order index can be racked</p>\n",
    "</td>\n",
    "</tr>\n",
    "<tr>\n",
    "<td class=\"ts\">2</td>\n",
    "<td><p><b>f_index</b></p>\n",
    "<p>Fortran_order index is tracked</p>\n",
    "</td>\n",
    "</tr>\n",
    "<tr>\n",
    "<td class=\"ts\">3</td>\n",
    "<td><p><b>multi-index</b></p>\n",
    "<p>Type of indexes with one per iteration can be tracked</p>\n",
    "</td>\n",
    "</tr>\n",
    "<tr>\n",
    "<td class=\"ts\">4</td>\n",
    "<td><p><b>external_loop</b></p>\n",
    "<p>Causes values given to be one-dimensional arrays with multiple values instead of zero-dimensional array</p>\n",
    "</td>\n",
    "</tr>\n",
    "</tbody></table>\n",
    "\n",
    "在下面的例子中，迭代器遍历每列对应的一维数组。"
   ]
  },
  {
   "cell_type": "code",
   "execution_count": 18,
   "metadata": {},
   "outputs": [
    {
     "name": "stdout",
     "output_type": "stream",
     "text": [
      "原始数组：\n",
      "[[  0  20  40  60]\n",
      " [ 80 100 120 140]\n",
      " [160 180 200 220]] \n",
      "\n",
      "修改的数组：\n",
      "[  0  80 160] [ 20 100 180] [ 40 120 200] [ 60 140 220]\n"
     ]
    }
   ],
   "source": [
    "print \"原始数组：\"\n",
    "print a,'\\n'\n",
    "\n",
    "print \"修改的数组：\"\n",
    "for x in np.nditer(a, flags = ['external_loop'], order = 'F'): \n",
    "   print x,"
   ]
  },
  {
   "cell_type": "markdown",
   "metadata": {},
   "source": [
    "## 2.4 广播迭代\n",
    "如果两个数组是可广播的，一个组合的nditer对象可以同时迭代它们。假设一个数组a的维数为3X4，而另一个数组b的维数为1X4，则使用以下类型的迭代器（数组b被广播为a的大小）。"
   ]
  },
  {
   "cell_type": "code",
   "execution_count": 19,
   "metadata": {},
   "outputs": [
    {
     "name": "stdout",
     "output_type": "stream",
     "text": [
      "第一个数组：\n",
      "[[  0  20  40  60]\n",
      " [ 80 100 120 140]\n",
      " [160 180 200 220]] \n",
      "\n",
      "第二个数组：\n",
      "[1 2 3 4] \n",
      "\n",
      "修改的数组：\n",
      "0:1 20:2 40:3 60:4 80:1 100:2 120:3 140:4 160:1 180:2 200:3 220:4\n"
     ]
    }
   ],
   "source": [
    "print \"第一个数组：\"\n",
    "print a,'\\n'\n",
    "\n",
    "print \"第二个数组：\"\n",
    "b = np.array([1,2,3,4],dtype=int)\n",
    "print b,'\\n'\n",
    "\n",
    "print \"修改的数组：\"\n",
    "for x,y in np.nditer([a,b]):\n",
    "    print \"%d:%d\" % (x,y),"
   ]
  },
  {
   "cell_type": "markdown",
   "metadata": {},
   "source": [
    "# 3. 数组操作\n",
    "Numpy包中有几个例程可用于处理ndarray对象中的元素。它们可以划分成以下几种类型：\n",
    "## 3.1 改变形状\n",
    "<table class=\"table table-bordered\">\n",
    "<tbody><tr>\n",
    "<th style=\"text-align:center; width:10%;\">Sr.No.</th>\n",
    "<th style=\"text-align:center;\">Shape &amp; Description</th>\n",
    "</tr>\n",
    "<tr>\n",
    "<td class=\"ts\">1</td>\n",
    "<td><a href=\"/numpy/numpy_reshape.htm\">reshape</a>\n",
    "<p>Gives a new shape to an array without changing its data</p>\n",
    "</td>\n",
    "</tr>\n",
    "<tr>\n",
    "<td class=\"ts\">2</td>\n",
    "<td><a href=\"/numpy/numpy_ndarray_flat.htm\">flat</a>\n",
    "<p>A 1-D iterator over the array</p>\n",
    "</td>\n",
    "</tr>\n",
    "<tr>\n",
    "<td class=\"ts\">3</td>\n",
    "<td><a href=\"/numpy/numpy_ndarray_flatten.htm\">flatten</a>\n",
    "<p>Returns a copy of the array collapsed into one dimension</p>\n",
    "</td>\n",
    "</tr>\n",
    "<tr>\n",
    "<td class=\"ts\">4</td>\n",
    "<td><a href=\"/numpy/numpy_ndarray_ravel.htm\">ravel</a>\n",
    "<p>Returns a contiguous flattened array</p>\n",
    "</td>\n",
    "</tr>\n",
    "</tbody></table>\n",
    "\n",
    "**温馨提示：**要弄清楚np.flatten()和np.ravel()的区别：前者返回一份拷贝(copy)，所以对拷贝的修改不会影响原始数组内容；而后者返回的是视图(view)，对视图对象的修改会影响原始数组。但是只是元素值的变化，原始数组的形状不受影响。举例如下："
   ]
  },
  {
   "cell_type": "code",
   "execution_count": 22,
   "metadata": {},
   "outputs": [
    {
     "name": "stdout",
     "output_type": "stream",
     "text": [
      "原始数组：\n",
      "[[1 2]\n",
      " [3 4]] \n",
      "\n",
      "对x的拷贝进行元素修改：\n",
      "[[1 2]\n",
      " [3 4]] \n",
      "\n",
      "对x的视图进行元素修改：\n",
      "[[  1 100]\n",
      " [  3   4]]\n"
     ]
    }
   ],
   "source": [
    "x = np.array([[1,2],[3,4]])\n",
    "print \"原始数组：\"\n",
    "print x,'\\n'\n",
    "\n",
    "\n",
    "x.flatten()[1] = 100\n",
    "print \"对x的拷贝进行元素修改：\"\n",
    "print x,'\\n'\n",
    "\n",
    "x.ravel()[1] = 100\n",
    "print \"对x的视图进行元素修改：\"\n",
    "print x"
   ]
  },
  {
   "cell_type": "markdown",
   "metadata": {},
   "source": [
    "## 3.2 转置操作\n",
    "<table class=\"table table-bordered\">\n",
    "<tbody><tr>\n",
    "<th style=\"text-align:center; width:10%;\">Sr.No.</th>\n",
    "<th style=\"text-align:center;\">Operation &amp; Description</th>\n",
    "</tr>\n",
    "<tr>\n",
    "<td class=\"ts\">1</td>\n",
    "<td><a href=\"/numpy/numpy_transpose.htm\">transpose</a>\n",
    "<p>Permutes the dimensions of an array</p>\n",
    "</td>\n",
    "</tr>\n",
    "<tr>\n",
    "<td class=\"ts\">2</td>\n",
    "<td><a href=\"/numpy/numpy_ndarray_t.htm\">ndarray.T</a>\n",
    "<p>Same as self.transpose()</p>\n",
    "</td>\n",
    "</tr>\n",
    "<tr>\n",
    "<td class=\"ts\">3</td>\n",
    "<td><a href=\"/numpy/numpy_rollaxis.htm\">rollaxis</a>\n",
    "<p>Rolls the specified axis backwards</p>\n",
    "</td>\n",
    "</tr>\n",
    "<tr>\n",
    "<td class=\"ts\">4</td>\n",
    "<td><a href=\"/numpy/numpy_swapaxes.htm\">swapaxes</a>\n",
    "<p>Interchanges the two axes of an array</p>\n",
    "</td>\n",
    "</tr>\n",
    "</tbody></table>"
   ]
  },
  {
   "cell_type": "markdown",
   "metadata": {},
   "source": [
    "### rollaxis函数注解：\n",
    "```python\n",
    "numpy.rollaxis(arr,axis,start=0)  \n",
    "```\n",
    "重新分配选择的``axis``到``start``位置上，start默认为0。"
   ]
  },
  {
   "cell_type": "code",
   "execution_count": 24,
   "metadata": {
    "scrolled": true
   },
   "outputs": [
    {
     "name": "stdout",
     "output_type": "stream",
     "text": [
      "(2L, 3L, 4L) \n",
      "\n",
      "(4L, 2L, 3L)\n"
     ]
    }
   ],
   "source": [
    "a = np.arange(24).reshape([2,3,4])\n",
    "\n",
    "# 因为start = 0，所以rollaxis会把最后一个坐标轴axis= 2的数字4带到第一个位置。\n",
    "b = np.rollaxis(a, 2)\n",
    "\n",
    "print a.shape,'\\n'\n",
    "print b.shape"
   ]
  },
  {
   "cell_type": "markdown",
   "metadata": {},
   "source": [
    "与rollaxis类似，**swapaxes函数**形式如下：  \n",
    "numpy.swapaxes(arr,axis1,axis2)  \n",
    "此函数用于交换数组中的两个轴的值，这里不再举例说明。"
   ]
  },
  {
   "cell_type": "markdown",
   "metadata": {},
   "source": [
    "## 3.3 改变维度\n",
    "<table class=\"table table-bordered\">\n",
    "<tbody><tr>\n",
    "<th style=\"text-align:center; width:10%;\">Sr.No.</th>\n",
    "<th style=\"text-align:center;\">Dimension &amp; Description</th>\n",
    "</tr>\n",
    "<tr>\n",
    "<td class=\"ts\">1</td>\n",
    "<td><a href=\"/numpy/numpy_broadcast.htm\">broadcast</a>\n",
    "<p>Produces an object that mimics broadcasting</p>\n",
    "</td>\n",
    "</tr>\n",
    "<tr>\n",
    "<td class=\"ts\">2</td>\n",
    "<td><a href=\"/numpy/numpy_broadcast_to.htm\">broadcast_to</a>\n",
    "<p>Broadcasts an array to a new shape</p>\n",
    "</td>\n",
    "</tr>\n",
    "<tr>\n",
    "<td class=\"ts\">3</td>\n",
    "<td><a href=\"/numpy/numpy_expand_dims.htm\">expand_dims</a>\n",
    "<p>Expands the shape of an array</p>\n",
    "</td>\n",
    "</tr>\n",
    "<tr>\n",
    "<td class=\"ts\">4</td>\n",
    "<td><a href=\"/numpy/numpy_squeeze.htm\">squeeze</a>\n",
    "<p>Removes single-dimensional entries from the shape of an array</p>\n",
    "</td>\n",
    "</tr>\n",
    "</tbody></table>"
   ]
  },
  {
   "cell_type": "markdown",
   "metadata": {},
   "source": [
    "### expand_dims函数\n",
    "这个函数通过插入一个新的轴到特定位置以扩展数组，这个函数接收两个参数。  \n",
    "```python\n",
    "numpy.expand_dims(arr,axis)\n",
    "```"
   ]
  },
  {
   "cell_type": "code",
   "execution_count": 4,
   "metadata": {},
   "outputs": [
    {
     "name": "stdout",
     "output_type": "stream",
     "text": [
      "Array x:\n",
      "[[1 2]\n",
      " [3 4]] \n",
      "\n",
      "Array y:\n",
      "[[[1 2]\n",
      "  [3 4]]] \n",
      "\n",
      "Array z:\n",
      "[[[1 2]]\n",
      "\n",
      " [[3 4]]] \n",
      "\n",
      "Their shapes are: \n",
      "x:  (2L, 2L)\n",
      "y:  (1L, 2L, 2L)\n",
      "z:  (2L, 1L, 2L)\n"
     ]
    }
   ],
   "source": [
    "x = np.array([[1,2],[3,4]])\n",
    "print 'Array x:'\n",
    "print x,'\\n'\n",
    "\n",
    "y = np.expand_dims(x,axis=0)\n",
    "print 'Array y:'\n",
    "print y,'\\n'\n",
    "\n",
    "z = np.expand_dims(x,axis=1)\n",
    "print 'Array z:'\n",
    "print z,'\\n'\n",
    "\n",
    "print 'Their shapes are: '\n",
    "print 'x: ',x.shape\n",
    "print 'y: ',y.shape\n",
    "print 'z: ',z.shape"
   ]
  },
  {
   "cell_type": "markdown",
   "metadata": {},
   "source": [
    "### squeeze函数\n",
    "这个函数与expand_dims()作用相反，用于移除给定数组形状的一维项目。\n",
    "```python\n",
    "numpy.squeeze(arr,axis)\n",
    "```\n",
    "举例如下："
   ]
  },
  {
   "cell_type": "code",
   "execution_count": 5,
   "metadata": {},
   "outputs": [
    {
     "name": "stdout",
     "output_type": "stream",
     "text": [
      "Array x:\n",
      "[[[0 1 2]\n",
      "  [3 4 5]\n",
      "  [6 7 8]]] \n",
      "\n",
      "Array y:\n",
      "[[0 1 2]\n",
      " [3 4 5]\n",
      " [6 7 8]] \n",
      "\n",
      "Their shape are:\n",
      "x: (1L, 3L, 3L)\n",
      "y: (3L, 3L)\n"
     ]
    }
   ],
   "source": [
    "x = np.arange(9).reshape(1,3,3)\n",
    "print 'Array x:'\n",
    "print x,'\\n'\n",
    "\n",
    "y = np.squeeze(x)\n",
    "print 'Array y:'\n",
    "print y,'\\n'\n",
    "\n",
    "print 'Their shape are:'\n",
    "print 'x:',x.shape\n",
    "print 'y:',y.shape"
   ]
  },
  {
   "cell_type": "markdown",
   "metadata": {},
   "source": [
    "## 3.4 数组联结\n",
    "<table class=\"table table-bordered\">\n",
    "<tbody><tr>\n",
    "<th style=\"text-align:center; width:10%;\">Sr.No.</th>\n",
    "<th style=\"text-align:center;\">Array &amp; Description</th>\n",
    "</tr>\n",
    "<tr>\n",
    "<td class=\"ts\">1</td>\n",
    "<td><a href=\"/numpy/numpy_concatenate.htm\">concatenate</a>\n",
    "<p>Joins a sequence of arrays along an existing axis</p>\n",
    "</td>\n",
    "</tr>\n",
    "<tr>\n",
    "<td class=\"ts\">2</td>\n",
    "<td><a href=\"/numpy/numpy_stack.htm\">stack</a>\n",
    "<p>Joins a sequence of arrays along a new axis</p>\n",
    "</td>\n",
    "</tr>\n",
    "<tr>\n",
    "<td class=\"ts\">3</td>\n",
    "<td><a href=\"/numpy/numpy_hstack.htm\">hstack</a>\n",
    "<p>Stacks arrays in sequence horizontally (column wise)</p>\n",
    "</td>\n",
    "</tr>\n",
    "<tr>\n",
    "<td class=\"ts\">4</td>\n",
    "<td><a href=\"/numpy/numpy_vstack.htm\">vstack</a>\n",
    "<p>Stacks arrays in sequence vertically (row wise)</p>\n",
    "</td>\n",
    "</tr>\n",
    "</tbody></table>"
   ]
  },
  {
   "cell_type": "markdown",
   "metadata": {},
   "source": [
    "### numpy.comcatenate\n",
    "这个函数用于联结两个或多个相同形状的数组。\n",
    "```python\n",
    "numpy.concatenate((a1,a2,...),axis)\n",
    "```\n",
    "举例如下："
   ]
  },
  {
   "cell_type": "code",
   "execution_count": 6,
   "metadata": {
    "scrolled": true
   },
   "outputs": [
    {
     "name": "stdout",
     "output_type": "stream",
     "text": [
      "First array:\n",
      "[[1 2]\n",
      " [3 4]] \n",
      "\n",
      "Second array:\n",
      "[[5 6]\n",
      " [7 8]] \n",
      "\n",
      "Joining the two arrays along axis 0:\n",
      "[[1 2]\n",
      " [3 4]\n",
      " [5 6]\n",
      " [7 8]] \n",
      "\n",
      "Joinint the two arrays along axis 1:\n",
      "[[1 2 5 6]\n",
      " [3 4 7 8]]\n"
     ]
    }
   ],
   "source": [
    "a = np.array([[1,2],[3,4]])\n",
    "print 'First array:'\n",
    "print a,'\\n'\n",
    "\n",
    "b = np.array([[5,6],[7,8]])\n",
    "print 'Second array:'\n",
    "print b,'\\n'\n",
    "# a,b两个数组维度相同\n",
    "\n",
    "print 'Joining the two arrays along axis 0:'\n",
    "print np.concatenate((a,b)),'\\n'\n",
    "\n",
    "print 'Joinint the two arrays along axis 1:'\n",
    "print np.concatenate((a,b),axis=1)"
   ]
  },
  {
   "cell_type": "markdown",
   "metadata": {},
   "source": [
    "### numpy.stack\n",
    "这个函数通过一个新的轴联结数组。\n",
    "```python\n",
    "numpy.stack(arrays,axis)\n",
    "```\n",
    "举例如下："
   ]
  },
  {
   "cell_type": "code",
   "execution_count": 7,
   "metadata": {
    "scrolled": false
   },
   "outputs": [
    {
     "name": "stdout",
     "output_type": "stream",
     "text": [
      "Stack the two arrays along axis 0:\n",
      "[[[1 2]\n",
      "  [3 4]]\n",
      "\n",
      " [[5 6]\n",
      "  [7 8]]] \n",
      "\n",
      "Stack the two arrays along axis 1:\n",
      "[[[1 2]\n",
      "  [5 6]]\n",
      "\n",
      " [[3 4]\n",
      "  [7 8]]]\n"
     ]
    }
   ],
   "source": [
    "print 'Stack the two arrays along axis 0:'\n",
    "print np.stack((a,b),0),'\\n'\n",
    "\n",
    "print 'Stack the two arrays along axis 1:'\n",
    "print np.stack((a,b),1)"
   ]
  },
  {
   "cell_type": "markdown",
   "metadata": {},
   "source": [
    "具体解释参见[Numpy中stack(),hstack()和vstack()函数详解](http://blog.csdn.net/csdn15698845876/article/details/73380803)"
   ]
  },
  {
   "cell_type": "markdown",
   "metadata": {},
   "source": [
    "### numpy.hstack\n",
    "numpy.stack函数的变体可以堆叠起来，从而构成一个水平的单个数组。"
   ]
  },
  {
   "cell_type": "code",
   "execution_count": 8,
   "metadata": {
    "scrolled": true
   },
   "outputs": [
    {
     "name": "stdout",
     "output_type": "stream",
     "text": [
      "First array:\n",
      "[[1 2]\n",
      " [3 4]]\n",
      "\n",
      "\n",
      "Second array:\n",
      "[[5 6]\n",
      " [7 8]]\n",
      "\n",
      "\n",
      "Horizontal stacking:\n",
      "[[1 2 5 6]\n",
      " [3 4 7 8]] \n",
      "\n"
     ]
    }
   ],
   "source": [
    "import numpy as np \n",
    "a = np.array([[1,2],[3,4]]) \n",
    "\n",
    "print 'First array:' \n",
    "print a \n",
    "print '\\n'  \n",
    "b = np.array([[5,6],[7,8]]) \n",
    "\n",
    "print 'Second array:' \n",
    "print b \n",
    "print '\\n'\n",
    "\n",
    "print 'Horizontal stacking:'\n",
    "c = np.hstack((a,b))\n",
    "print c,'\\n'"
   ]
  },
  {
   "cell_type": "markdown",
   "metadata": {},
   "source": [
    "### numpy.vstack\n",
    "numpy.stack函数的变体可以堆叠起来，从而构成一个垂直的单一数组。"
   ]
  },
  {
   "cell_type": "code",
   "execution_count": 9,
   "metadata": {
    "scrolled": true
   },
   "outputs": [
    {
     "name": "stdout",
     "output_type": "stream",
     "text": [
      "First array:\n",
      "[[1 2]\n",
      " [3 4]] \n",
      "\n",
      "Second array:\n",
      "[[5 6]\n",
      " [7 8]] \n",
      "\n",
      "Vertical stacking:\n",
      "[[1 2]\n",
      " [3 4]\n",
      " [5 6]\n",
      " [7 8]]\n"
     ]
    }
   ],
   "source": [
    "import numpy as np \n",
    "a = np.array([[1,2],[3,4]]) \n",
    "\n",
    "print 'First array:' \n",
    "print a,'\\n'  \n",
    "\n",
    "b = np.array([[5,6],[7,8]]) \n",
    "print 'Second array:' \n",
    "print b,'\\n'\n",
    "\n",
    "print 'Vertical stacking:'\n",
    "c = np.vstack((a,b))\n",
    "print c"
   ]
  },
  {
   "cell_type": "markdown",
   "metadata": {},
   "source": [
    "**提示：**注意区分stack与hstack和vstack。第一个是在新轴上连结数组，后两个创建的对象并没有新的轴，维度保持不变。"
   ]
  },
  {
   "cell_type": "markdown",
   "metadata": {},
   "source": [
    "## 3.5 数组分割\n",
    "<table class=\"table table-bordered\">\n",
    "<tbody><tr>\n",
    "<th style=\"text-align:center; width:10%;\">Sr.No.</th>\n",
    "<th style=\"text-align:center;\">Array &amp; Description</th>\n",
    "</tr>\n",
    "<tr>\n",
    "<td class=\"ts\">1</td>\n",
    "<td><a href=\"/numpy/numpy_split.htm\">split</a>\n",
    "<p>Splits an array into multiple sub-arrays</p>\n",
    "</td>\n",
    "</tr>\n",
    "<tr>\n",
    "<td class=\"ts\">2</td>\n",
    "<td><a href=\"/numpy/numpy_hsplit.htm\">hsplit</a>\n",
    "<p>Splits an array into multiple sub-arrays horizontally (column-wise)</p>\n",
    "</td>\n",
    "</tr>\n",
    "<tr>\n",
    "<td class=\"ts\">3</td>\n",
    "<td><a href=\"/numpy/numpy_vsplit.htm\">vsplit</a>\n",
    "<p>Splits an array into multiple sub-arrays vertically (row-wise)</p>\n",
    "</td>\n",
    "</tr>\n",
    "</tbody></table>"
   ]
  },
  {
   "cell_type": "markdown",
   "metadata": {},
   "source": [
    "### numpy.split\n",
    "这个函数将数组沿着一条指定的轴切分为多个子数组。函数形式如下：\n",
    "```python\n",
    "numpy.split(ary,indices_or_sections,axis)\n",
    "```\n",
    "其中各个参数的具体含义列表如下：\n",
    "<table class=\"table table-bordered\">\n",
    "<tbody><tr>\n",
    "<th style=\"text-align:center;width:10%;\">Sr.No.</th>\n",
    "<th style=\"text-align:center;\">Parameter &amp; Description</th>\n",
    "</tr>\n",
    "<tr>\n",
    "<td class=\"ts\">1</td>\n",
    "<td><p><b>ary</b></p>\n",
    "<p>输入将要分割的数组</p>\n",
    "</td>\n",
    "</tr>\n",
    "<tr>\n",
    "<td class=\"ts\">2</td>\n",
    "<td><p><b>indices_or_sections</b></p>\n",
    "<p>可以是一个整数，表示从输入数组创建的相等大小的子数组的数量。如果此参数是一维数组，则这些条目将指示要创建新子数组的点。</p>\n",
    "</td>\n",
    "</tr>\n",
    "<tr>\n",
    "<td class=\"ts\">3</td>\n",
    "<td><p><b>axis</b></p>\n",
    "<p>默认为0</p>\n",
    "</td>\n",
    "</tr>\n",
    "</tbody></table>"
   ]
  },
  {
   "cell_type": "code",
   "execution_count": 10,
   "metadata": {},
   "outputs": [
    {
     "name": "stdout",
     "output_type": "stream",
     "text": [
      "First array:\n",
      "[0 1 2 3 4 5 6 7 8] \n",
      "\n",
      "Split the array in 3 equal-sized subarrays:\n",
      "[array([0, 1, 2]), array([3, 4, 5]), array([6, 7, 8])] \n",
      "\n",
      "Split the array at positions indicated in 1-D array:\n",
      "[array([0, 1, 2, 3]), array([4, 5, 6]), array([7, 8])]\n"
     ]
    }
   ],
   "source": [
    "a = np.arange(9)\n",
    "print 'First array:'\n",
    "print a,'\\n'\n",
    "\n",
    "print 'Split the array in 3 equal-sized subarrays:'\n",
    "b = np.split(a,3)\n",
    "print b,'\\n'\n",
    "\n",
    "print 'Split the array at positions indicated in 1-D array:'\n",
    "b = np.split(a,[4,7])\n",
    "print b"
   ]
  },
  {
   "cell_type": "markdown",
   "metadata": {},
   "source": [
    "### numpy.hsplit\n",
    "这个函数是split()的一个特例，其中axis默认是1，表示水平分割，而不管输入数组的维度如何。"
   ]
  },
  {
   "cell_type": "code",
   "execution_count": 11,
   "metadata": {
    "scrolled": true
   },
   "outputs": [
    {
     "name": "stdout",
     "output_type": "stream",
     "text": [
      "First array:\n",
      "[[ 0  1  2  3]\n",
      " [ 4  5  6  7]\n",
      " [ 8  9 10 11]\n",
      " [12 13 14 15]] \n",
      "\n",
      "Horizontal splitting:\n",
      "[array([[ 0,  1],\n",
      "       [ 4,  5],\n",
      "       [ 8,  9],\n",
      "       [12, 13]]), array([[ 2,  3],\n",
      "       [ 6,  7],\n",
      "       [10, 11],\n",
      "       [14, 15]])] \n",
      "\n"
     ]
    }
   ],
   "source": [
    "a = np.arange(16).reshape(4,4)\n",
    "print 'First array:' \n",
    "print a,'\\n'\n",
    "\n",
    "print 'Horizontal splitting:'\n",
    "b = np.hsplit(a,2)\n",
    "print b,'\\n'"
   ]
  },
  {
   "cell_type": "markdown",
   "metadata": {},
   "source": [
    "### numpy.vsplit\n",
    "这个函数是split()的一个特例，其中axis默认是1，表示垂直分割，而不管输入数组的维度如何。"
   ]
  },
  {
   "cell_type": "code",
   "execution_count": 16,
   "metadata": {},
   "outputs": [
    {
     "name": "stdout",
     "output_type": "stream",
     "text": [
      "Vertical splitting:\n",
      "[array([[0, 1, 2, 3],\n",
      "       [4, 5, 6, 7]]), array([[ 8,  9, 10, 11],\n",
      "       [12, 13, 14, 15]])]\n"
     ]
    }
   ],
   "source": [
    "print 'Vertical splitting:'\n",
    "b = np.vsplit(a,2)\n",
    "print b"
   ]
  },
  {
   "cell_type": "markdown",
   "metadata": {},
   "source": [
    "**注意：**数组分割后得到的结果是列表，每一个元素都是分割后的子数组对象。"
   ]
  },
  {
   "cell_type": "markdown",
   "metadata": {},
   "source": [
    "## 3.6 添加/删除元素\n",
    "<table class=\"table table-bordered\">\n",
    "<tbody><tr>\n",
    "<th style=\"text-align:center; width:10%;\">Sr.No.</th>\n",
    "<th style=\"text-align:center;\">Element &amp; Description</th>\n",
    "</tr>\n",
    "<tr>\n",
    "<td class=\"ts\">1</td>\n",
    "<td><a href=\"/numpy/numpy_resize.htm\">resize</a>\n",
    "<p>Returns a new array with the specified shape</p>\n",
    "</td>\n",
    "</tr>\n",
    "<tr>\n",
    "<td class=\"ts\">2</td>\n",
    "<td><a href=\"/numpy/numpy_append.htm\">append</a>\n",
    "<p>Appends the values to the end of an array</p>\n",
    "</td>\n",
    "</tr>\n",
    "<tr>\n",
    "<td class=\"ts\">3</td>\n",
    "<td><a href=\"/numpy/numpy_insert.htm\">insert</a>\n",
    "<p>Inserts the values along the given axis before the given indices</p>\n",
    "</td>\n",
    "</tr>\n",
    "<tr>\n",
    "<td class=\"ts\">4</td>\n",
    "<td><a href=\"/numpy/numpy_delete.htm\">delete</a>\n",
    "<p>Returns a new array with sub-arrays along an axis deleted</p>\n",
    "</td>\n",
    "</tr>\n",
    "<tr>\n",
    "<td class=\"ts\">5</td>\n",
    "<td><a href=\"/numpy/numpy_unique.htm\">unique</a>\n",
    "<p>Finds the unique elements of an array</p>\n",
    "</td>\n",
    "</tr>\n",
    "</tbody></table>"
   ]
  },
  {
   "cell_type": "markdown",
   "metadata": {
    "collapsed": true
   },
   "source": [
    "### numpy.resize\n",
    "该函数返回一个具有指定大小的新数组。如果新尺寸大于原始数组的，则包含原始数组中重复的条目拷贝。函数形式如下：\n",
    "```python\n",
    "numpy.resize(arr,shape)\n",
    "```\n",
    "举例如下："
   ]
  },
  {
   "cell_type": "code",
   "execution_count": 17,
   "metadata": {},
   "outputs": [
    {
     "name": "stdout",
     "output_type": "stream",
     "text": [
      "First array:\n",
      "[[1 2 3]\n",
      " [4 5 6]] \n",
      "\n",
      "The shape of first array:\n",
      "(2L, 3L) \n",
      "\n",
      "Second array:\n",
      "[[1 2]\n",
      " [3 4]\n",
      " [5 6]] \n",
      "\n",
      "The shape of second array:\n",
      "(3L, 2L) \n",
      "\n",
      "Resize the second array:\n",
      "[[1 2 3]\n",
      " [4 5 6]\n",
      " [1 2 3]]\n"
     ]
    }
   ],
   "source": [
    "a = np.array([[1,2,3],[4,5,6]])\n",
    "print 'First array:'\n",
    "print a,'\\n'\n",
    "\n",
    "print 'The shape of first array:'\n",
    "print a.shape,'\\n'\n",
    "\n",
    "b = np.resize(a,(3,2))\n",
    "print 'Second array:'\n",
    "print b,'\\n'\n",
    "\n",
    "print 'The shape of second array:'\n",
    "print b.shape,'\\n'\n",
    "\n",
    "# 可以看出，由于尺寸更大，b中a数组的第一行重复拷贝了一次\n",
    "print 'Resize the second array:'\n",
    "b = np.resize(a,(3,3))\n",
    "print b"
   ]
  },
  {
   "cell_type": "markdown",
   "metadata": {},
   "source": [
    "**注意：**Numpy中reshape和resize的区分：  \n",
    "- reshape函数有返回值，所谓有返回值，即不对原始多维数组进行修改；\n",
    "- resize函数无返回值，所谓有返回值，即会对原始多维数组进行修改。\n",
    "\n",
    "举例如下："
   ]
  },
  {
   "cell_type": "code",
   "execution_count": 20,
   "metadata": {},
   "outputs": [
    {
     "name": "stdout",
     "output_type": "stream",
     "text": [
      "[ 0  1  2  3  4  5  6  7  8  9 10 11] \n",
      "\n"
     ]
    },
    {
     "data": {
      "text/plain": [
       "array([[ 0,  1,  2,  3],\n",
       "       [ 4,  5,  6,  7],\n",
       "       [ 8,  9, 10, 11]])"
      ]
     },
     "execution_count": 20,
     "metadata": {},
     "output_type": "execute_result"
    }
   ],
   "source": [
    "a = np.arange(12)\n",
    "print a,'\\n'\n",
    "\n",
    "a.reshape(3,4)"
   ]
  },
  {
   "cell_type": "code",
   "execution_count": 21,
   "metadata": {},
   "outputs": [
    {
     "name": "stdout",
     "output_type": "stream",
     "text": [
      "[[ 0  1  2  3  4  5]\n",
      " [ 6  7  8  9 10 11]]\n"
     ]
    }
   ],
   "source": [
    "a.resize(2,6)\n",
    "print a"
   ]
  },
  {
   "cell_type": "markdown",
   "metadata": {},
   "source": [
    "### numpy.append\n",
    "该函数添加值到输入数组的尾部。添加操作不在位，分配一个新的数组。另外输入数组的维度必须匹配，否则会产生ValueError。函数形式如下：\n",
    "```python\n",
    "numpy.append(arr,values,axia)\n",
    "```\n",
    "参数具体解析如下：\n",
    "<table class=\"table table-bordered\">\n",
    "<tbody><tr>\n",
    "<th style=\"text-align:center; width:10%;\">Sr.No.</th>\n",
    "<th style=\"text-align:center;\">Parameter &amp; Description</th>\n",
    "</tr>\n",
    "<tr>\n",
    "<td class=\"ts\">1</td>\n",
    "<td><p><b>arr</b></p>\n",
    "<p>Input array</p>\n",
    "</td>\n",
    "</tr>\n",
    "<tr>\n",
    "<td class=\"ts\">2</td>\n",
    "<td><p><b>values</b></p>\n",
    "<p>To be appended to arr. It must be of the same shape as of arr (excluding axis of appending)</p>\n",
    "</td>\n",
    "</tr>\n",
    "<tr>\n",
    "<td class=\"ts\">3</td>\n",
    "<td><p><b>axis</b></p>\n",
    "<p>The axis along which append operation is to be done. If not given, both parameters are flattened</p>\n",
    "</td>\n",
    "</tr>\n",
    "</tbody></table>"
   ]
  },
  {
   "cell_type": "code",
   "execution_count": 22,
   "metadata": {},
   "outputs": [
    {
     "name": "stdout",
     "output_type": "stream",
     "text": [
      "First array:\n",
      "[[1 2 3]\n",
      " [4 5 6]] \n",
      "\n",
      "Append elements to array:\n",
      "[1 2 3 4 5 6 7 8 9]\n",
      "\n",
      "\n",
      "Append elements along axis 0:\n",
      "[[1 2 3]\n",
      " [4 5 6]\n",
      " [7 8 9]]\n",
      "\n",
      "\n",
      "Append elements along axis 1:\n",
      "[[1 2 3 5 5 5]\n",
      " [4 5 6 7 8 9]]\n"
     ]
    }
   ],
   "source": [
    "a = np.array([[1,2,3],[4,5,6]])\n",
    "print 'First array:'\n",
    "print a,'\\n'\n",
    "\n",
    "print 'Append elements to array:'\n",
    "print np.append(a,[7,8,9])\n",
    "print '\\n'\n",
    "\n",
    "print 'Append elements along axis 0:'\n",
    "print np.append(a,[[7,8,9]],axis=0)\n",
    "print '\\n'\n",
    "\n",
    "print 'Append elements along axis 1:'\n",
    "print np.append(a,[[5,5,5],[7,8,9]],axis=1)"
   ]
  },
  {
   "cell_type": "markdown",
   "metadata": {},
   "source": [
    "### numpy.insert\n",
    "这个函数在这个输入数组按照给定轴和给定索引之前插入值。如果将值类型转换为插入，则与输入数组不同。插入没有完成，函数返回一个新的数组。并且，如果axis没有给出，输入数组默认为一维扁平类型。函数原型如下：\n",
    "```python\n",
    "numpy.insert(arr,obj,values,axis)\n",
    "```\n",
    "参数：\n",
    "<table class=\"table table-bordered\">\n",
    "<tbody><tr>\n",
    "<th style=\"text-align:center; width:10%;\">Sr.No.</th>\n",
    "<th style=\"text-align:center;\">Parameter &amp; Description</th>\n",
    "</tr>\n",
    "<tr>\n",
    "<td class=\"ts\">1</td>\n",
    "<td><p><b>arr</b></p>\n",
    "<p>Input array</p>\n",
    "</td>\n",
    "</tr>\n",
    "<tr>\n",
    "<td class=\"ts\">2</td>\n",
    "<td><p><b>obj</b></p>\n",
    "<p>The index before which insertion is to be made</p>\n",
    "</td>\n",
    "</tr>\n",
    "<tr>\n",
    "<td class=\"ts\">3</td>\n",
    "<td><p><b>values</b></p>\n",
    "<p>The array of values to be inserted</p>\n",
    "</td>\n",
    "</tr><tr>\n",
    "<td class=\"ts\">4</td>\n",
    "<td><p><b>axis</b></p>\n",
    "<p>The axis along which to insert. If not given, the input array is flattened</p>\n",
    "</td>\n",
    "</tr>\n",
    "</tbody></table>"
   ]
  },
  {
   "cell_type": "code",
   "execution_count": 23,
   "metadata": {
    "scrolled": true
   },
   "outputs": [
    {
     "name": "stdout",
     "output_type": "stream",
     "text": [
      "First array:\n",
      "[[1 2]\n",
      " [3 4]\n",
      " [5 6]] \n",
      "\n",
      "Axis parameter not passed. The input array is flattened before insertion.\n",
      "[ 1  2  3 11 12  4  5  6] \n",
      "\n",
      "Axis para passed. The values array is broadcast to match input array.\n",
      "Broadcast along axis 0:\n",
      "[[ 1  2]\n",
      " [11 11]\n",
      " [ 3  4]\n",
      " [ 5  6]] \n",
      "\n",
      "Broadcast along axis 1:\n",
      "[[ 1 11  2]\n",
      " [ 3 11  4]\n",
      " [ 5 11  6]]\n"
     ]
    }
   ],
   "source": [
    "a = np.array([[1,2],[3,4],[5,6]])\n",
    "print 'First array:'\n",
    "print a,'\\n'\n",
    "\n",
    "print 'Axis parameter not passed. The input array is flattened before insertion.'\n",
    "print np.insert(a,3,[11,12]),'\\n'\n",
    "\n",
    "print 'Axis para passed. The values array is broadcast to match input array.'\n",
    "print 'Broadcast along axis 0:'\n",
    "print np.insert(a,1,[11],axis=0),'\\n'\n",
    "\n",
    "print 'Broadcast along axis 1:'\n",
    "print np.insert(a,1,11,axis=1)"
   ]
  },
  {
   "cell_type": "markdown",
   "metadata": {},
   "source": [
    "#### 可以看出，python的广播机制在插入操作中再一次用到！"
   ]
  },
  {
   "cell_type": "markdown",
   "metadata": {},
   "source": [
    "### numpy.delete\n",
    "该函数返回一个新的数组，其中从输入数组中删除指定的子数组。与insert()函数一样，如果不使用axis参数，则输入数组变平。函数原型如下：\n",
    "```python\n",
    "numpy.delete(arr,obj,axis)\n",
    "```\n",
    "参数：\n",
    "<table class=\"table table-bordered\">\n",
    "<tbody><tr>\n",
    "<th style=\"text-align:center; width:10%\">Sr.No.</th>\n",
    "<th style=\"text-align:center;\">Parameter &amp; Description</th>\n",
    "</tr>\n",
    "<tr>\n",
    "<td class=\"ts\">1</td>\n",
    "<td><p><b>arr</b></p>\n",
    "<p>Input array</p>\n",
    "</td>\n",
    "</tr>\n",
    "<tr>\n",
    "<td class=\"ts\">2</td>\n",
    "<td><p><b>obj</b></p>\n",
    "<p>Can be a slice, an integer or array of integers, indicating the subarray to be deleted from the input array</p>\n",
    "</td>\n",
    "</tr>\n",
    "<tr>\n",
    "<td class=\"ts\">3</td>\n",
    "<td><p><b>axis</b></p>\n",
    "<p>The axis along which to delete the given subarray. If not given, arr is flattened</p>\n",
    "</td>\n",
    "</tr>\n",
    "</tbody></table>\n",
    "\n",
    "示例如下："
   ]
  },
  {
   "cell_type": "code",
   "execution_count": 26,
   "metadata": {
    "scrolled": false
   },
   "outputs": [
    {
     "name": "stdout",
     "output_type": "stream",
     "text": [
      "First array:\n",
      "[[ 0  1  2  3]\n",
      " [ 4  5  6  7]\n",
      " [ 8  9 10 11]] \n",
      "\n",
      "Array flattened before delete operation as axis not used:\n",
      "[ 0  1  2  3  4  6  7  8  9 10 11] \n",
      "\n",
      "Column 2 deleted:\n",
      "[[ 0  2  3]\n",
      " [ 4  6  7]\n",
      " [ 8 10 11]] \n",
      "\n",
      "A slice containing alternate values from array deleted:\n",
      "[ 2  4  6  8 10]\n"
     ]
    }
   ],
   "source": [
    "a = np.arange(12).reshape(3,4)\n",
    "print 'First array:'\n",
    "print a,'\\n'\n",
    "\n",
    "print 'Array flattened before delete operation as axis not used:'\n",
    "print np.delete(a,5),'\\n'\n",
    "\n",
    "print 'Column 2 deleted:'\n",
    "print np.delete(a,1,axis=1),'\\n'\n",
    "\n",
    "print 'A slice containing alternate values from array deleted:'\n",
    "a = np.array([1,2,3,4,5,6,7,8,9,10])\n",
    "print np.delete(a,np.s_[::2])"
   ]
  },
  {
   "cell_type": "markdown",
   "metadata": {},
   "source": [
    "[这里](https://stackoverflow.com/questions/32682754/np-delete-and-np-s-whats-so-special-about-np-s)是关于np.delete()函数中使用np.s_[]切片作为obj参数的解释。"
   ]
  },
  {
   "cell_type": "markdown",
   "metadata": {},
   "source": [
    "### numpy.unique\n",
    "该函数返回输入数组中唯一元素的数组。该函数可以返回一个唯一的vales数组和一个关联索引数组。索引的性质取决于函数调用中返回参数的类型。\n",
    "略 ......\n"
   ]
  },
  {
   "cell_type": "markdown",
   "metadata": {
    "collapsed": true
   },
   "source": [
    "# 二进制操作符\n",
    "下面是numpy库中可用的字节操作函数。\n",
    "<table class=\"table table-bordered\">\n",
    "<tbody><tr>\n",
    "<th style=\"text-align:center; width:10%\">Sr.No.</th>\n",
    "<th style=\"text-align:center;\">Operation &amp; Description</th>\n",
    "</tr>\n",
    "<tr>\n",
    "<td class=\"ts\">1</td>\n",
    "<td><a href=\"/numpy/numpy_bitwise_and.htm\">bitwise_and</a>\n",
    "<p>Computes bitwise AND operation of array elements</p>\n",
    "</td>\n",
    "</tr>\n",
    "<tr>\n",
    "<td class=\"ts\">2</td>\n",
    "<td><a href=\"/numpy/numpy_bitwise_or.htm\">bitwise_or</a>\n",
    "<p>Computes bitwise OR operation of array elements</p>\n",
    "</td>\n",
    "</tr>\n",
    "<tr>\n",
    "<td class=\"ts\">3</td>\n",
    "<td><a href=\"/numpy/numpy_invert.htm\">invert</a>\n",
    "<p>Computes bitwise NOT</p>\n",
    "</td>\n",
    "</tr>\n",
    "<tr>\n",
    "<td class=\"ts\">4</td>\n",
    "<td><a href=\"/numpy/numpy_left_shift.htm\">left_shift</a>\n",
    "<p>Shifts bits of a binary representation to the left</p>\n",
    "</td>\n",
    "</tr>\n",
    "<tr>\n",
    "<td class=\"ts\">5</td>\n",
    "<td><a href=\"/numpy/numpy_right_shift.htm\">right_shift</a>\n",
    "<p>Shifts bits of binary representation to the right</p>\n",
    "</td>\n",
    "</tr>\n",
    "</tbody></table>"
   ]
  },
  {
   "cell_type": "code",
   "execution_count": null,
   "metadata": {
    "collapsed": true
   },
   "outputs": [],
   "source": []
  }
 ],
 "metadata": {
  "kernelspec": {
   "display_name": "Python 2",
   "language": "python",
   "name": "python2"
  },
  "language_info": {
   "codemirror_mode": {
    "name": "ipython",
    "version": 2
   },
   "file_extension": ".py",
   "mimetype": "text/x-python",
   "name": "python",
   "nbconvert_exporter": "python",
   "pygments_lexer": "ipython2",
   "version": "2.7.13"
  }
 },
 "nbformat": 4,
 "nbformat_minor": 2
}
