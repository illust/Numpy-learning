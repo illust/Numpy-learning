{
 "cells": [
  {
   "cell_type": "markdown",
   "metadata": {},
   "source": [
    "# 1. 广播特性\n",
    "“广播”一词指的是numpy处理不同形状数组在算术运算时的能力。数组上的算术运算通常是对应的元素相计算，如果两个阵列的形状完全相同，则这些操作可以顺利进行。"
   ]
  },
  {
   "cell_type": "code",
   "execution_count": 1,
   "metadata": {},
   "outputs": [
    {
     "name": "stdout",
     "output_type": "stream",
     "text": [
      "[ 10  40  90 160]\n"
     ]
    }
   ],
   "source": [
    "import numpy as np\n",
    "\n",
    "a =  np.array([1,2,3,4])\n",
    "b = np.array([10,20,30,40])\n",
    "c = a * b\n",
    "print c"
   ]
  },
  {
   "cell_type": "markdown",
   "metadata": {},
   "source": [
    "因为numpy中广播特性的存在，它使不同类型的数组运算成为可能。较小的阵列广播到较大阵列的大小，以便它们具有兼容的形状。下面是适用于broadcasting特性的几种情况：\n",
    "- 具有较小ndim的数组在其形状上预置有“1”。\n",
    "- 输出形状的每个维度中的大小是该维度中输入大小的最大值。\n",
    "- 输入可用于计算，如果其大小在特定维度上与输出大小匹配或其值恰好为1。\n",
    "- 如果输入的维度大小为1，则该维度中的第一个数据条目将用于沿该维度的所有计算。\n",
    "\n",
    "如果上述规则产生有效的结果并且下列之一成立，则称一组数据是可广播的：\n",
    "- 数组的形状完全一样。 \n",
    "- 数组具有相同的维度数量，每个维度的长度可以是常用长度或1。\n",
    "- 具有太小尺寸的阵列可以将其形状预先设定为长度为1的尺寸，以使上述属性为真。\n",
    "\n",
    "下面的程序展示了一个广播特性的例子："
   ]
  },
  {
   "cell_type": "code",
   "execution_count": 5,
   "metadata": {},
   "outputs": [
    {
     "name": "stdout",
     "output_type": "stream",
     "text": [
      "[[  0.   0.   0.]\n",
      " [ 10.  10.  10.]\n",
      " [ 20.  20.  20.]\n",
      " [ 30.  30.  30.]] \n",
      "\n",
      "[ 1.  2.  3.] \n",
      "\n",
      "[[  1.   2.   3.]\n",
      " [ 11.  12.  13.]\n",
      " [ 21.  22.  23.]\n",
      " [ 31.  32.  33.]]\n"
     ]
    }
   ],
   "source": [
    "a = np.array([[0.0,0.0,0.0],[10.0,10.0,10.0],[20.0,20.0,20.0],[30.0,30.0,30.0]])\n",
    "b = np.array([1.0,2.0,3.0])\n",
    "\n",
    "print a,'\\n'\n",
    "print b,'\\n'\n",
    "print a+b"
   ]
  },
  {
   "cell_type": "markdown",
   "metadata": {},
   "source": [
    "下面的图示解释了数组b是如何通过广播变为与a兼容的。\n",
    "![broadcasting](https://www.tutorialspoint.com/numpy/images/array.jpg)"
   ]
  },
  {
   "cell_type": "markdown",
   "metadata": {},
   "source": [
    "# 2. 迭代数组\n",
    "Numpy库中包含一个迭代器对象np.nditer。这是一个高效的多维迭代器对象，使用它可以遍历数组。它使用python中的标准迭代器接口访问数组中的每一个元素。  \n",
    "下面示例使用了np.arange()创建了一个3x4的数组，并且使用nditer对它进行迭代。"
   ]
  },
  {
   "cell_type": "code",
   "execution_count": 11,
   "metadata": {},
   "outputs": [
    {
     "name": "stdout",
     "output_type": "stream",
     "text": [
      "原始数组是：\n",
      "[[ 0  5 10 15]\n",
      " [20 25 30 35]\n",
      " [40 45 50 55]] \n",
      "\n",
      "修改的数组是：\n",
      "0 5 10 15 20 25 30 35 40 45 50 55 \n",
      "\n",
      "原始数组的转置为：\n",
      "[[ 0 20 40]\n",
      " [ 5 25 45]\n",
      " [10 30 50]\n",
      " [15 35 55]] \n",
      "\n",
      "修改的数组是：\n",
      "0 5 10 15 20 25 30 35 40 45 50 55\n"
     ]
    }
   ],
   "source": [
    "import numpy as np\n",
    "a = np.arange(0,60,5).reshape(3,4)\n",
    "\n",
    "print \"原始数组是：\"\n",
    "print a,'\\n'\n",
    "\n",
    "print \"修改的数组是：\"\n",
    "for x in np.nditer(a):\n",
    "    print x,\n",
    "print '\\n'   \n",
    "\n",
    "# 对数组转置的遍历结果也类似\n",
    "b = a.T\n",
    "print \"原始数组的转置为：\"\n",
    "print b,'\\n'\n",
    "print \"修改的数组是：\"\n",
    "for x in np.nditer(b):\n",
    "    print x,"
   ]
  },
  {
   "cell_type": "markdown",
   "metadata": {},
   "source": [
    "## 2.1 迭代顺序\n",
    "如果使用F样式顺序存储相同的元素，则迭代器会选择更有效的迭代数组的方法。"
   ]
  },
  {
   "cell_type": "code",
   "execution_count": 14,
   "metadata": {},
   "outputs": [
    {
     "name": "stdout",
     "output_type": "stream",
     "text": [
      "原始数组：\n",
      "[[ 0 20 40]\n",
      " [ 5 25 45]\n",
      " [10 30 50]\n",
      " [15 35 55]] \n",
      "\n",
      "以C样式顺序排序：\n",
      "[[ 0 20 40]\n",
      " [ 5 25 45]\n",
      " [10 30 50]\n",
      " [15 35 55]]\n",
      "0 20 40 5 25 45 10 30 50 15 35 55 \n",
      "\n",
      "以F样式顺序排序：\n",
      "[[ 0 20 40]\n",
      " [ 5 25 45]\n",
      " [10 30 50]\n",
      " [15 35 55]]\n",
      "0 5 10 15 20 25 30 35 40 45 50 55\n"
     ]
    }
   ],
   "source": [
    "print \"原始数组：\"\n",
    "print b,'\\n'\n",
    "\n",
    "print \"以C样式顺序排序：\"\n",
    "c = b.copy(order='C')\n",
    "print c\n",
    "for x in np.nditer(c):\n",
    "    print x,\n",
    "print '\\n'\n",
    "\n",
    "print \"以F样式顺序排序：\"\n",
    "c = b.copy(order='F')\n",
    "print c\n",
    "for x in np.nditer(c):\n",
    "    print x,"
   ]
  },
  {
   "cell_type": "markdown",
   "metadata": {},
   "source": [
    "可以通过明确地提到nditer对象来使用特定的顺序。"
   ]
  },
  {
   "cell_type": "code",
   "execution_count": 15,
   "metadata": {},
   "outputs": [
    {
     "name": "stdout",
     "output_type": "stream",
     "text": [
      "原始数组：\n",
      "[[ 0  5 10 15]\n",
      " [20 25 30 35]\n",
      " [40 45 50 55]] \n",
      "\n",
      "以F样式顺序排序：\n",
      "0 20 40 5 25 45 10 30 50 15 35 55 \n",
      "\n"
     ]
    }
   ],
   "source": [
    "print \"原始数组：\"\n",
    "print a,'\\n'\n",
    "\n",
    "print \"以F样式顺序排序：\"\n",
    "for x in np.nditer(a,order='F'):\n",
    "    print x,\n",
    "print '\\n'"
   ]
  },
  {
   "cell_type": "markdown",
   "metadata": {},
   "source": [
    "## 2.2 修改数组元素值\n",
    "nditer对象有另一个可选参数：op_flags。它的默认值是read-only的，但是可以设置为read-write或者write-only模式。这将使用这个迭代器来修改数组元素。"
   ]
  },
  {
   "cell_type": "code",
   "execution_count": 17,
   "metadata": {},
   "outputs": [
    {
     "name": "stdout",
     "output_type": "stream",
     "text": [
      "原始数组：\n",
      "[[  0  10  20  30]\n",
      " [ 40  50  60  70]\n",
      " [ 80  90 100 110]] \n",
      "\n",
      "修改的数组：\n",
      "[[  0  20  40  60]\n",
      " [ 80 100 120 140]\n",
      " [160 180 200 220]]\n"
     ]
    }
   ],
   "source": [
    "print \"原始数组：\"\n",
    "print a,'\\n'\n",
    "\n",
    "for x in np.nditer(a,op_flags=['readwrite']):\n",
    "    x[...] = 2 * x\n",
    "print \"修改的数组：\"\n",
    "print a"
   ]
  },
  {
   "cell_type": "markdown",
   "metadata": {},
   "source": [
    "## 2.3 外部循环\n",
    "<table class=\"table table-bordered\">\n",
    "<tbody><tr>\n",
    "<th style=\"text-align:center;\">Sr.No.</th>\n",
    "<th style=\"text-align:center;\">Parameter &amp; Description</th>\n",
    "</tr>\n",
    "<tr>\n",
    "<td class=\"ts\">1</td>\n",
    "<td><p><b>c_index</b></p>\n",
    "<p>C_order index can be racked</p>\n",
    "</td>\n",
    "</tr>\n",
    "<tr>\n",
    "<td class=\"ts\">2</td>\n",
    "<td><p><b>f_index</b></p>\n",
    "<p>Fortran_order index is tracked</p>\n",
    "</td>\n",
    "</tr>\n",
    "<tr>\n",
    "<td class=\"ts\">3</td>\n",
    "<td><p><b>multi-index</b></p>\n",
    "<p>Type of indexes with one per iteration can be tracked</p>\n",
    "</td>\n",
    "</tr>\n",
    "<tr>\n",
    "<td class=\"ts\">4</td>\n",
    "<td><p><b>external_loop</b></p>\n",
    "<p>Causes values given to be one-dimensional arrays with multiple values instead of zero-dimensional array</p>\n",
    "</td>\n",
    "</tr>\n",
    "</tbody></table>\n",
    "\n",
    "在下面的例子中，迭代器遍历每列对应的一维数组。"
   ]
  },
  {
   "cell_type": "code",
   "execution_count": 18,
   "metadata": {},
   "outputs": [
    {
     "name": "stdout",
     "output_type": "stream",
     "text": [
      "原始数组：\n",
      "[[  0  20  40  60]\n",
      " [ 80 100 120 140]\n",
      " [160 180 200 220]] \n",
      "\n",
      "修改的数组：\n",
      "[  0  80 160] [ 20 100 180] [ 40 120 200] [ 60 140 220]\n"
     ]
    }
   ],
   "source": [
    "print \"原始数组：\"\n",
    "print a,'\\n'\n",
    "\n",
    "print \"修改的数组：\"\n",
    "for x in np.nditer(a, flags = ['external_loop'], order = 'F'): \n",
    "   print x,"
   ]
  },
  {
   "cell_type": "markdown",
   "metadata": {},
   "source": [
    "## 2.4 广播迭代\n",
    "如果两个数组是可广播的，一个组合的nditer对象可以同时迭代它们。假设一个数组a的维数为3X4，而另一个数组b的维数为1X4，则使用以下类型的迭代器（数组b被广播为a的大小）。"
   ]
  },
  {
   "cell_type": "code",
   "execution_count": 19,
   "metadata": {},
   "outputs": [
    {
     "name": "stdout",
     "output_type": "stream",
     "text": [
      "第一个数组：\n",
      "[[  0  20  40  60]\n",
      " [ 80 100 120 140]\n",
      " [160 180 200 220]] \n",
      "\n",
      "第二个数组：\n",
      "[1 2 3 4] \n",
      "\n",
      "修改的数组：\n",
      "0:1 20:2 40:3 60:4 80:1 100:2 120:3 140:4 160:1 180:2 200:3 220:4\n"
     ]
    }
   ],
   "source": [
    "print \"第一个数组：\"\n",
    "print a,'\\n'\n",
    "\n",
    "print \"第二个数组：\"\n",
    "b = np.array([1,2,3,4],dtype=int)\n",
    "print b,'\\n'\n",
    "\n",
    "print \"修改的数组：\"\n",
    "for x,y in np.nditer([a,b]):\n",
    "    print \"%d:%d\" % (x,y),"
   ]
  },
  {
   "cell_type": "markdown",
   "metadata": {},
   "source": [
    "# 3. 数组操作\n",
    "Numpy包中有几个例程可用于处理ndarray对象中的元素。它们可以划分成以下几种类型：\n",
    "## 3.1 改变形状\n",
    "<table class=\"table table-bordered\">\n",
    "<tbody><tr>\n",
    "<th style=\"text-align:center; width:10%;\">Sr.No.</th>\n",
    "<th style=\"text-align:center;\">Shape &amp; Description</th>\n",
    "</tr>\n",
    "<tr>\n",
    "<td class=\"ts\">1</td>\n",
    "<td><a href=\"/numpy/numpy_reshape.htm\">reshape</a>\n",
    "<p>Gives a new shape to an array without changing its data</p>\n",
    "</td>\n",
    "</tr>\n",
    "<tr>\n",
    "<td class=\"ts\">2</td>\n",
    "<td><a href=\"/numpy/numpy_ndarray_flat.htm\">flat</a>\n",
    "<p>A 1-D iterator over the array</p>\n",
    "</td>\n",
    "</tr>\n",
    "<tr>\n",
    "<td class=\"ts\">3</td>\n",
    "<td><a href=\"/numpy/numpy_ndarray_flatten.htm\">flatten</a>\n",
    "<p>Returns a copy of the array collapsed into one dimension</p>\n",
    "</td>\n",
    "</tr>\n",
    "<tr>\n",
    "<td class=\"ts\">4</td>\n",
    "<td><a href=\"/numpy/numpy_ndarray_ravel.htm\">ravel</a>\n",
    "<p>Returns a contiguous flattened array</p>\n",
    "</td>\n",
    "</tr>\n",
    "</tbody></table>\n",
    "\n",
    "**温馨提示：**要弄清楚np.flatten()和np.ravel()的区别：前者返回一份拷贝(copy)，所以对拷贝的修改不会影响原始数组内容；而后者返回的是视图(view)，对视图对象的修改会影响原始数组。但是只是元素值的变化，原始数组的形状不受影响。举例如下："
   ]
  },
  {
   "cell_type": "code",
   "execution_count": 22,
   "metadata": {},
   "outputs": [
    {
     "name": "stdout",
     "output_type": "stream",
     "text": [
      "原始数组：\n",
      "[[1 2]\n",
      " [3 4]] \n",
      "\n",
      "对x的拷贝进行元素修改：\n",
      "[[1 2]\n",
      " [3 4]] \n",
      "\n",
      "对x的视图进行元素修改：\n",
      "[[  1 100]\n",
      " [  3   4]]\n"
     ]
    }
   ],
   "source": [
    "x = np.array([[1,2],[3,4]])\n",
    "print \"原始数组：\"\n",
    "print x,'\\n'\n",
    "\n",
    "\n",
    "x.flatten()[1] = 100\n",
    "print \"对x的拷贝进行元素修改：\"\n",
    "print x,'\\n'\n",
    "\n",
    "x.ravel()[1] = 100\n",
    "print \"对x的视图进行元素修改：\"\n",
    "print x"
   ]
  },
  {
   "cell_type": "markdown",
   "metadata": {},
   "source": [
    "## 3.2 转置操作\n",
    "<table class=\"table table-bordered\">\n",
    "<tbody><tr>\n",
    "<th style=\"text-align:center; width:10%;\">Sr.No.</th>\n",
    "<th style=\"text-align:center;\">Operation &amp; Description</th>\n",
    "</tr>\n",
    "<tr>\n",
    "<td class=\"ts\">1</td>\n",
    "<td><a href=\"/numpy/numpy_transpose.htm\">transpose</a>\n",
    "<p>Permutes the dimensions of an array</p>\n",
    "</td>\n",
    "</tr>\n",
    "<tr>\n",
    "<td class=\"ts\">2</td>\n",
    "<td><a href=\"/numpy/numpy_ndarray_t.htm\">ndarray.T</a>\n",
    "<p>Same as self.transpose()</p>\n",
    "</td>\n",
    "</tr>\n",
    "<tr>\n",
    "<td class=\"ts\">3</td>\n",
    "<td><a href=\"/numpy/numpy_rollaxis.htm\">rollaxis</a>\n",
    "<p>Rolls the specified axis backwards</p>\n",
    "</td>\n",
    "</tr>\n",
    "<tr>\n",
    "<td class=\"ts\">4</td>\n",
    "<td><a href=\"/numpy/numpy_swapaxes.htm\">swapaxes</a>\n",
    "<p>Interchanges the two axes of an array</p>\n",
    "</td>\n",
    "</tr>\n",
    "</tbody></table>"
   ]
  },
  {
   "cell_type": "markdown",
   "metadata": {},
   "source": [
    "### rollaxis函数注解：\n",
    "numpy.rollaxis(arr,axis,start=0)  \n",
    "重新分配选择的``axis``到``start``位置上，start默认为0。"
   ]
  },
  {
   "cell_type": "code",
   "execution_count": 24,
   "metadata": {
    "scrolled": true
   },
   "outputs": [
    {
     "name": "stdout",
     "output_type": "stream",
     "text": [
      "(2L, 3L, 4L) \n",
      "\n",
      "(4L, 2L, 3L)\n"
     ]
    }
   ],
   "source": [
    "a = np.arange(24).reshape([2,3,4])\n",
    "\n",
    "# 因为start = 0，所以rollaxis会把最后一个坐标轴axis= 2的数字4带到第一个位置。\n",
    "b = np.rollaxis(a, 2)\n",
    "\n",
    "print a.shape,'\\n'\n",
    "print b.shape"
   ]
  },
  {
   "cell_type": "markdown",
   "metadata": {},
   "source": [
    "与rollaxis类似，**swapaxes函数**形式如下：  \n",
    "numpy.swapaxes(arr,axis1,axis2)  \n",
    "此函数用于交换数组中的两个轴的值，这里不再举例说明。"
   ]
  },
  {
   "cell_type": "markdown",
   "metadata": {},
   "source": [
    "## 3.3 改变维度\n",
    "<table class=\"table table-bordered\">\n",
    "<tbody><tr>\n",
    "<th style=\"text-align:center; width:10%;\">Sr.No.</th>\n",
    "<th style=\"text-align:center;\">Dimension &amp; Description</th>\n",
    "</tr>\n",
    "<tr>\n",
    "<td class=\"ts\">1</td>\n",
    "<td><a href=\"/numpy/numpy_broadcast.htm\">broadcast</a>\n",
    "<p>Produces an object that mimics broadcasting</p>\n",
    "</td>\n",
    "</tr>\n",
    "<tr>\n",
    "<td class=\"ts\">2</td>\n",
    "<td><a href=\"/numpy/numpy_broadcast_to.htm\">broadcast_to</a>\n",
    "<p>Broadcasts an array to a new shape</p>\n",
    "</td>\n",
    "</tr>\n",
    "<tr>\n",
    "<td class=\"ts\">3</td>\n",
    "<td><a href=\"/numpy/numpy_expand_dims.htm\">expand_dims</a>\n",
    "<p>Expands the shape of an array</p>\n",
    "</td>\n",
    "</tr>\n",
    "<tr>\n",
    "<td class=\"ts\">4</td>\n",
    "<td><a href=\"/numpy/numpy_squeeze.htm\">squeeze</a>\n",
    "<p>Removes single-dimensional entries from the shape of an array</p>\n",
    "</td>\n",
    "</tr>\n",
    "</tbody></table>"
   ]
  },
  {
   "cell_type": "markdown",
   "metadata": {},
   "source": [
    "## 3.4 数组联结\n",
    "<table class=\"table table-bordered\">\n",
    "<tbody><tr>\n",
    "<th style=\"text-align:center; width:10%;\">Sr.No.</th>\n",
    "<th style=\"text-align:center;\">Array &amp; Description</th>\n",
    "</tr>\n",
    "<tr>\n",
    "<td class=\"ts\">1</td>\n",
    "<td><a href=\"/numpy/numpy_concatenate.htm\">concatenate</a>\n",
    "<p>Joins a sequence of arrays along an existing axis</p>\n",
    "</td>\n",
    "</tr>\n",
    "<tr>\n",
    "<td class=\"ts\">2</td>\n",
    "<td><a href=\"/numpy/numpy_stack.htm\">stack</a>\n",
    "<p>Joins a sequence of arrays along a new axis</p>\n",
    "</td>\n",
    "</tr>\n",
    "<tr>\n",
    "<td class=\"ts\">3</td>\n",
    "<td><a href=\"/numpy/numpy_hstack.htm\">hstack</a>\n",
    "<p>Stacks arrays in sequence horizontally (column wise)</p>\n",
    "</td>\n",
    "</tr>\n",
    "<tr>\n",
    "<td class=\"ts\">4</td>\n",
    "<td><a href=\"/numpy/numpy_vstack.htm\">vstack</a>\n",
    "<p>Stacks arrays in sequence vertically (row wise)</p>\n",
    "</td>\n",
    "</tr>\n",
    "</tbody></table>"
   ]
  },
  {
   "cell_type": "markdown",
   "metadata": {},
   "source": [
    "## 3.5 数组分割\n",
    "<table class=\"table table-bordered\">\n",
    "<tbody><tr>\n",
    "<th style=\"text-align:center; width:10%;\">Sr.No.</th>\n",
    "<th style=\"text-align:center;\">Array &amp; Description</th>\n",
    "</tr>\n",
    "<tr>\n",
    "<td class=\"ts\">1</td>\n",
    "<td><a href=\"/numpy/numpy_split.htm\">split</a>\n",
    "<p>Splits an array into multiple sub-arrays</p>\n",
    "</td>\n",
    "</tr>\n",
    "<tr>\n",
    "<td class=\"ts\">2</td>\n",
    "<td><a href=\"/numpy/numpy_hsplit.htm\">hsplit</a>\n",
    "<p>Splits an array into multiple sub-arrays horizontally (column-wise)</p>\n",
    "</td>\n",
    "</tr>\n",
    "<tr>\n",
    "<td class=\"ts\">3</td>\n",
    "<td><a href=\"/numpy/numpy_vsplit.htm\">vsplit</a>\n",
    "<p>Splits an array into multiple sub-arrays vertically (row-wise)</p>\n",
    "</td>\n",
    "</tr>\n",
    "</tbody></table>"
   ]
  },
  {
   "cell_type": "markdown",
   "metadata": {},
   "source": [
    "## 3.6 添加/删除元素\n",
    "<table class=\"table table-bordered\">\n",
    "<tbody><tr>\n",
    "<th style=\"text-align:center; width:10%;\">Sr.No.</th>\n",
    "<th style=\"text-align:center;\">Element &amp; Description</th>\n",
    "</tr>\n",
    "<tr>\n",
    "<td class=\"ts\">1</td>\n",
    "<td><a href=\"/numpy/numpy_resize.htm\">resize</a>\n",
    "<p>Returns a new array with the specified shape</p>\n",
    "</td>\n",
    "</tr>\n",
    "<tr>\n",
    "<td class=\"ts\">2</td>\n",
    "<td><a href=\"/numpy/numpy_append.htm\">append</a>\n",
    "<p>Appends the values to the end of an array</p>\n",
    "</td>\n",
    "</tr>\n",
    "<tr>\n",
    "<td class=\"ts\">3</td>\n",
    "<td><a href=\"/numpy/numpy_insert.htm\">insert</a>\n",
    "<p>Inserts the values along the given axis before the given indices</p>\n",
    "</td>\n",
    "</tr>\n",
    "<tr>\n",
    "<td class=\"ts\">4</td>\n",
    "<td><a href=\"/numpy/numpy_delete.htm\">delete</a>\n",
    "<p>Returns a new array with sub-arrays along an axis deleted</p>\n",
    "</td>\n",
    "</tr>\n",
    "<tr>\n",
    "<td class=\"ts\">5</td>\n",
    "<td><a href=\"/numpy/numpy_unique.htm\">unique</a>\n",
    "<p>Finds the unique elements of an array</p>\n",
    "</td>\n",
    "</tr>\n",
    "</tbody></table>"
   ]
  },
  {
   "cell_type": "code",
   "execution_count": null,
   "metadata": {
    "collapsed": true
   },
   "outputs": [],
   "source": []
  }
 ],
 "metadata": {
  "kernelspec": {
   "display_name": "Python 2",
   "language": "python",
   "name": "python2"
  },
  "language_info": {
   "codemirror_mode": {
    "name": "ipython",
    "version": 2
   },
   "file_extension": ".py",
   "mimetype": "text/x-python",
   "name": "python",
   "nbconvert_exporter": "python",
   "pygments_lexer": "ipython2",
   "version": "2.7.13"
  }
 },
 "nbformat": 4,
 "nbformat_minor": 2
}
