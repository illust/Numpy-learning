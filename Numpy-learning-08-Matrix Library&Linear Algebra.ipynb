{
 "cells": [
  {
   "cell_type": "markdown",
   "metadata": {},
   "source": [
    "# 1. 矩阵库\n",
    "Numpy中包含一个矩阵库numpy.matlib。这个模块具有返回矩阵而不是ndarray对象的函数。\n",
    "### 1.1 matlib.empty()\n",
    "该函数在不需要初始化的情况下返回一个新的矩阵。函数原型如下：\n",
    "```python\n",
    "numpy.matlib.empty(shape,dtype,order)\n",
    "```\n",
    "参数描述如下：\n",
    "<table class=\"table table-bordered\">\n",
    "<tbody><tr>\n",
    "<th style=\"text-align:center; width:10%;\">Sr.No.</th>\n",
    "<th style=\"text-align:center;\">Parameter &amp; Description</th>\n",
    "</tr>\n",
    "<tr>\n",
    "<td class=\"ts\">1</td>\n",
    "<td><p><b>shape</b></p>\n",
    "<p><b>int</b> or tuple of <b>int</b> defining the shape of the new matrix</p>\n",
    "</td>\n",
    "</tr>\n",
    "<tr>\n",
    "<td class=\"ts\">2</td>\n",
    "<td><p><b>Dtype</b></p>\n",
    "<p>Optional. Data type of the output</p>\n",
    "</td>\n",
    "</tr>\n",
    "<tr>\n",
    "<td class=\"ts\">3</td>\n",
    "<td><p><b>order</b></p>\n",
    "<p>C or F</p>\n",
    "</td>\n",
    "</tr>\n",
    "</tbody></table>\n",
    "举例如下："
   ]
  },
  {
   "cell_type": "code",
   "execution_count": 2,
   "metadata": {},
   "outputs": [
    {
     "name": "stdout",
     "output_type": "stream",
     "text": [
      "[[  3.59817378e-316   6.94117095e-316]\n",
      " [  6.94117332e-316   6.94117569e-316]]\n"
     ]
    }
   ],
   "source": [
    "import numpy.matlib\n",
    "import numpy as np\n",
    "\n",
    "# 填充随机数\n",
    "print np.matlib.empty((2,2))"
   ]
  },
  {
   "cell_type": "markdown",
   "metadata": {},
   "source": [
    "### 1.2 numpy.matlib.zeros()\n",
    "这个函数返回以0填充的矩阵。"
   ]
  },
  {
   "cell_type": "code",
   "execution_count": 4,
   "metadata": {},
   "outputs": [
    {
     "name": "stdout",
     "output_type": "stream",
     "text": [
      "[[ 0.  0.]\n",
      " [ 0.  0.]]\n"
     ]
    }
   ],
   "source": [
    "print np.matlib.zeros((2,2))"
   ]
  },
  {
   "cell_type": "markdown",
   "metadata": {},
   "source": [
    "### 1.3 numpy.matlib.ones()\n",
    "该函数返回以1填充的矩阵。"
   ]
  },
  {
   "cell_type": "code",
   "execution_count": 5,
   "metadata": {},
   "outputs": [
    {
     "name": "stdout",
     "output_type": "stream",
     "text": [
      "[[ 1.  1.]\n",
      " [ 1.  1.]]\n"
     ]
    }
   ],
   "source": [
    "print np.matlib.ones((2,2))"
   ]
  },
  {
   "cell_type": "markdown",
   "metadata": {},
   "source": [
    "### 1.4 numpy.matlib.eye()\n",
    "该函数返回一个矩阵，其中对角线元素为1，其他位置为零。\n",
    "函数原型如下：\n",
    "```python\n",
    "numpy.matlib.eye(n,M,k,dtype)\n",
    "```\n",
    "参数描述如下：\n",
    "<table class=\"table table-bordered\">\n",
    "<tbody><tr>\n",
    "<th style=\"text-align:center; width:10%;\">Sr.No.</th>\n",
    "<th style=\"text-align:center;\">Parameter &amp; Description</th>\n",
    "</tr>\n",
    "<tr>\n",
    "<td class=\"ts\">1</td>\n",
    "<td><p><b>n</b></p>\n",
    "<p>The number of rows in the resulting matrix</p>\n",
    "</td>\n",
    "</tr>\n",
    "<tr>\n",
    "<td class=\"ts\">2</td>\n",
    "<td><p><b>M</b></p>\n",
    "<p>The number of columns, defaults to n</p>\n",
    "</td>\n",
    "</tr>\n",
    "<tr>\n",
    "<td class=\"ts\">3</td>\n",
    "<td><p><b>k</b></p>\n",
    "<p>Index of diagonal</p>\n",
    "</td>\n",
    "</tr>\n",
    "<tr>\n",
    "<td class=\"ts\">4</td>\n",
    "<td><p><b>dtype</b></p>\n",
    "<p>Data type of the output</p>\n",
    "</td>\n",
    "</tr>\n",
    "</tbody></table>\n",
    "举例如下："
   ]
  },
  {
   "cell_type": "code",
   "execution_count": 6,
   "metadata": {},
   "outputs": [
    {
     "name": "stdout",
     "output_type": "stream",
     "text": [
      "[[ 1.  0.  0.  0.]\n",
      " [ 0.  1.  0.  0.]\n",
      " [ 0.  0.  1.  0.]]\n"
     ]
    }
   ],
   "source": [
    "print np.matlib.eye(n=3,M=4,k=0,dtype=float)"
   ]
  },
  {
   "cell_type": "markdown",
   "metadata": {},
   "source": [
    "### 1.5 numpy.matlib.identity()\n",
    "该函数返回给定大小的单位矩阵。单位矩阵是一个所有对角元素都为1的方阵。"
   ]
  },
  {
   "cell_type": "code",
   "execution_count": 7,
   "metadata": {},
   "outputs": [
    {
     "name": "stdout",
     "output_type": "stream",
     "text": [
      "[[ 1.  0.  0.  0.  0.]\n",
      " [ 0.  1.  0.  0.  0.]\n",
      " [ 0.  0.  1.  0.  0.]\n",
      " [ 0.  0.  0.  1.  0.]\n",
      " [ 0.  0.  0.  0.  1.]]\n"
     ]
    }
   ],
   "source": [
    "print np.matlib.identity(5,dtype=float)"
   ]
  },
  {
   "cell_type": "markdown",
   "metadata": {},
   "source": [
    "### 1.6 numpy.matlib.rand()\n",
    "该函数返回一个给定大小以随机数填充的矩阵。"
   ]
  },
  {
   "cell_type": "code",
   "execution_count": 8,
   "metadata": {},
   "outputs": [
    {
     "name": "stdout",
     "output_type": "stream",
     "text": [
      "[[ 0.23716964  0.60138815  0.28851693]\n",
      " [ 0.21727983  0.10336561  0.99238338]\n",
      " [ 0.72800388  0.31587187  0.46154631]]\n"
     ]
    }
   ],
   "source": [
    "print np.matlib.rand(3,3)"
   ]
  },
  {
   "cell_type": "markdown",
   "metadata": {},
   "source": [
    "**注意：**矩阵总是二维的，而ndarray是一个n维的数组。这两个对象可以相互转换。"
   ]
  },
  {
   "cell_type": "code",
   "execution_count": 15,
   "metadata": {},
   "outputs": [
    {
     "name": "stdout",
     "output_type": "stream",
     "text": [
      "[[1 2]\n",
      " [3 4]] \n",
      "\n",
      "[[1 2]\n",
      " [3 4]] \n",
      "\n",
      "True\n"
     ]
    }
   ],
   "source": [
    "i = np.matrix('1,2;3,4')\n",
    "print i,'\\n'\n",
    "\n",
    "j = np.asarray(i)\n",
    "print j,'\\n'\n",
    "print isinstance(j,np.ndarray) "
   ]
  },
  {
   "cell_type": "markdown",
   "metadata": {},
   "source": [
    "# 2. 线性代数\n",
    "NumPy包中包含numpy.linalg模块，它提供了线性代数所需的全部功能。下表列举了一些模块中重要的函数。\n",
    "<table class=\"table table-bordered\">\n",
    "<tbody><tr>\n",
    "<th style=\"text-align:center;width:10%\">Sr.No.</th>\n",
    "<th style=\"text-align:center;\">Function &amp; Description</th>\n",
    "</tr>\n",
    "<tr>\n",
    "<td class=\"ts\">1</td>\n",
    "<td><a href=\"/numpy/numpy_dot.htm\">dot</a>\n",
    "<p>Dot product of the two arrays</p>\n",
    "</td>\n",
    "</tr>\n",
    "<tr>\n",
    "<td class=\"ts\">2</td>\n",
    "<td><a href=\"/numpy/numpy_vdot.htm\">vdot</a>\n",
    "<p>Dot product of the two vectors</p>\n",
    "</td>\n",
    "</tr>\n",
    "<tr>\n",
    "<td class=\"ts\">3</td>\n",
    "<td><a href=\"/numpy/numpy_inner.htm\">inner</a>\n",
    "<p>Inner product of the two arrays</p>\n",
    "</td>\n",
    "</tr>\n",
    "<tr>\n",
    "<td class=\"ts\">4</td>\n",
    "<td><a href=\"/numpy/numpy_matmul.htm\">matmul</a>\n",
    "<p>Matrix product of the two arrays</p>\n",
    "</td>\n",
    "</tr>\n",
    "<tr>\n",
    "<td class=\"ts\">5</td>\n",
    "<td><a href=\"/numpy/numpy_determinant.htm\">determinant</a>\n",
    "<p>Computes the determinant of the array</p>\n",
    "</td>\n",
    "</tr>\n",
    "<tr>\n",
    "<td class=\"ts\">6</td>\n",
    "<td><a href=\"/numpy/numpy_solve.htm\">solve</a>\n",
    "<p>Solves the linear matrix equation</p>\n",
    "</td>\n",
    "</tr>\n",
    "<tr>\n",
    "<td class=\"ts\">7</td>\n",
    "<td><a href=\"/numpy/numpy_inv.htm\">inv</a>\n",
    "<p>Finds the multiplicative inverse of the matrix</p>\n",
    "</td>\n",
    "</tr>\n",
    "</tbody></table>"
   ]
  },
  {
   "cell_type": "markdown",
   "metadata": {},
   "source": [
    "### 2.1 numpy.dot()\n",
    "这个函数返回两个数组点乘的结果。对于一个二维向量来说，它与矩阵乘法相同。对于一维数组来说，它就是向量的内积。对于N维数组来说，它是a的最后一个轴和b的倒数第二个轴的总和。"
   ]
  },
  {
   "cell_type": "code",
   "execution_count": 16,
   "metadata": {},
   "outputs": [
    {
     "data": {
      "text/plain": [
       "array([[37, 40],\n",
       "       [85, 92]])"
      ]
     },
     "execution_count": 16,
     "metadata": {},
     "output_type": "execute_result"
    }
   ],
   "source": [
    "a = np.array([[1,2],[3,4]])\n",
    "b = np.array([[11,12],[13,14]])\n",
    "np.dot(a,b)"
   ]
  },
  {
   "cell_type": "markdown",
   "metadata": {},
   "source": [
    "### 2.2 numpy.vdot()\n",
    "这个函数返回两个向量的点积。如果第一个参数是复数，那么它的共轭被用于计算。如果参数id是多维数组，则变平。"
   ]
  },
  {
   "cell_type": "code",
   "execution_count": 17,
   "metadata": {},
   "outputs": [
    {
     "data": {
      "text/plain": [
       "130"
      ]
     },
     "execution_count": 17,
     "metadata": {},
     "output_type": "execute_result"
    }
   ],
   "source": [
    "a = np.array([[1,2],[3,4]])\n",
    "b = np.array([[11,12],[13,14]])\n",
    "np.vdot(a,b)"
   ]
  },
  {
   "cell_type": "markdown",
   "metadata": {},
   "source": [
    "### 2.3 numpy.inner()\n",
    "该函数返回一维数组的向量的内积。对于更高的尺寸，它将返回最后一个轴上的和。"
   ]
  },
  {
   "cell_type": "code",
   "execution_count": 18,
   "metadata": {},
   "outputs": [
    {
     "name": "stdout",
     "output_type": "stream",
     "text": [
      "2\n"
     ]
    }
   ],
   "source": [
    "print np.inner(np.array([1,2,3]),np.array([0,1,0])) \n",
    "# Equates to 1*0+2*1+3*0"
   ]
  },
  {
   "cell_type": "code",
   "execution_count": 20,
   "metadata": {
    "scrolled": true
   },
   "outputs": [
    {
     "name": "stdout",
     "output_type": "stream",
     "text": [
      "Array a:\n",
      "[[1 2]\n",
      " [3 4]] \n",
      "\n",
      "Array b:\n",
      "[[11 12]\n",
      " [13 14]] \n",
      "\n",
      "Inner product:\n",
      "[[35 41]\n",
      " [81 95]]\n"
     ]
    }
   ],
   "source": [
    "a = np.array([[1,2],[3,4]])\n",
    "print 'Array a:'\n",
    "print a,'\\n'\n",
    "\n",
    "b = np.array([[11,12],[13,14]])\n",
    "print 'Array b:'\n",
    "print b,'\\n'\n",
    "\n",
    "print 'Inner product:'\n",
    "print np.inner(a,b)"
   ]
  },
  {
   "cell_type": "markdown",
   "metadata": {},
   "source": [
    "上面的例子中，内积是这样计算得到的：\n",
    "```pyhon\n",
    "1*11+2*12, 1*13+2*14 \n",
    "3*11+4*12, 3*13+4*14 \n",
    "```"
   ]
  },
  {
   "cell_type": "markdown",
   "metadata": {},
   "source": [
    "### 2.4 numpy.matmul()\n",
    "The numpy.matmul() function returns the matrix product of two arrays. While it returns a normal product for 2-D arrays, if dimensions of either argument is >2, it is treated as a stack of matrices residing in the last two indexes and is broadcast accordingly.\n",
    "\n",
    "On the other hand, if either argument is 1-D array, it is promoted to a matrix by appending a 1 to its dimension, which is removed after multiplication.\n",
    "\n",
    "Sorry,I can't read in patient."
   ]
  },
  {
   "cell_type": "markdown",
   "metadata": {},
   "source": [
    "### 2.5 行列式\n",
    "行列式在线性代数中是一个非常有用的值。它从一个方阵的对角元素计算出来。对于一个2×2的矩阵，简单地说就是从其他两个元素的乘积中减去左上角和右下角元素的乘积。  \n",
    "换句话说，对于矩阵[[a，b]，[c，d]]，行列式被计算为'ad-bc'。较大的平方矩阵被认为是2×2矩阵的组合。  \n",
    "numpy.linalg.det()函数计算输入矩阵的行列式。"
   ]
  },
  {
   "cell_type": "code",
   "execution_count": 21,
   "metadata": {},
   "outputs": [
    {
     "name": "stdout",
     "output_type": "stream",
     "text": [
      "-2.0\n"
     ]
    }
   ],
   "source": [
    "a = np.array([[1,2],[3,4]])\n",
    "print np.linalg.det(a)"
   ]
  },
  {
   "cell_type": "code",
   "execution_count": 23,
   "metadata": {},
   "outputs": [
    {
     "name": "stdout",
     "output_type": "stream",
     "text": [
      "[[ 6  1  1]\n",
      " [ 4 -2  5]\n",
      " [ 2  8  7]] \n",
      "\n",
      "-306.0\n",
      "-306\n"
     ]
    }
   ],
   "source": [
    "b = np.array([[6,1,1],[4,-2,5],[2,8,7]])\n",
    "print b,'\\n'\n",
    "print np.linalg.det(b)\n",
    "print 6*(-2*7 - 5*8) - 1*(4*7 - 5*2) + 1*(4*8 - -2*2)"
   ]
  },
  {
   "cell_type": "markdown",
   "metadata": {},
   "source": [
    "### 2.6 numpy.linalg.solve()\n",
    "该函数以矩阵的形式给出线性等式的解答。\n",
    "官方文档参见[这里](https://docs.scipy.org/doc/numpy-1.13.0/reference/generated/numpy.linalg.solve.html)\n",
    "示例参见[这里](https://stackoverflow.com/questions/31256252/why-does-numpy-linalg-solve-offer-more-precise-matrix-inversions-than-numpy-li)"
   ]
  },
  {
   "cell_type": "markdown",
   "metadata": {},
   "source": [
    "### 2.7 numpy.linalg.inv()\n",
    "我们使用这个函数用于计算矩阵的逆。矩阵的逆矩阵是这样的，即如果它乘以原始矩阵，则得到单位矩阵。"
   ]
  },
  {
   "cell_type": "code",
   "execution_count": 25,
   "metadata": {},
   "outputs": [
    {
     "name": "stdout",
     "output_type": "stream",
     "text": [
      "[[1 2]\n",
      " [3 4]] \n",
      "\n",
      "[[-2.   1. ]\n",
      " [ 1.5 -0.5]] \n",
      "\n",
      "[[  1.00000000e+00   0.00000000e+00]\n",
      " [  8.88178420e-16   1.00000000e+00]]\n"
     ]
    }
   ],
   "source": [
    "x = np.array([[1,2],[3,4]])\n",
    "y = np.linalg.inv(x)\n",
    "print x,'\\n'\n",
    "print y,'\\n'\n",
    "print np.dot(x,y)"
   ]
  },
  {
   "cell_type": "code",
   "execution_count": null,
   "metadata": {
    "collapsed": true
   },
   "outputs": [],
   "source": []
  }
 ],
 "metadata": {
  "kernelspec": {
   "display_name": "Python 2",
   "language": "python",
   "name": "python2"
  },
  "language_info": {
   "codemirror_mode": {
    "name": "ipython",
    "version": 2
   },
   "file_extension": ".py",
   "mimetype": "text/x-python",
   "name": "python",
   "nbconvert_exporter": "python",
   "pygments_lexer": "ipython2",
   "version": "2.7.13"
  }
 },
 "nbformat": 4,
 "nbformat_minor": 2
}
