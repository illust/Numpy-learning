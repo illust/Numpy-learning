{
 "cells": [
  {
   "cell_type": "markdown",
   "metadata": {},
   "source": [
    "NumPy提供了各种与排序相关的功能。这些排序函数实现了不同的排序算法，每个排序算法的特点是执行速度，最差情况下的性能，所需的工作空间和算法的稳定性。下表展示了三种排序算法的比较。\n",
    "<table style=\"text-align:center\" class=\"table table-bordered\">\n",
    "<tbody><tr>\n",
    "<th style=\"text-align:center;\">kind</th>\n",
    "<th style=\"text-align:center;\">speed</th>\n",
    "<th style=\"text-align:center;\">worst case</th>\n",
    "<th style=\"text-align:center;\">work space</th>\n",
    "<th style=\"text-align:center;\">stable</th>\n",
    "</tr>\n",
    "<tr>\n",
    "<td>‘quicksort’</td>\n",
    "<td>1</td>\n",
    "<td>O(n^2)</td>\n",
    "<td>0</td>\n",
    "<td>no</td>\n",
    "</tr>\n",
    "<tr>\n",
    "<td>‘mergesort’</td>\n",
    "<td>2</td>\n",
    "<td>O(n*log(n))</td>\n",
    "<td>~n/2</td>\n",
    "<td>yes</td>\n",
    "</tr>\n",
    "<tr>\n",
    "<td>‘heapsort’</td>\n",
    "<td>3</td>\n",
    "<td>O(n*log(n))</td>\n",
    "<td>0</td>\n",
    "<td>no</td>\n",
    "</tr>\n",
    "</tbody></table>"
   ]
  },
  {
   "cell_type": "markdown",
   "metadata": {},
   "source": [
    "### 1. numpy.sort()\n",
    "这个排序函数返回了输入数组排序后的拷贝，函数原型如下：\n",
    "```python\n",
    "numpy.sort(a,axis,kind,order)\n",
    "```\n",
    "参数描述：\n",
    "<table class=\"table table-bordered\">\n",
    "<tbody><tr>\n",
    "<th style=\"text-align:center; width:10%\">Sr.No.</th>\n",
    "<th style=\"text-align:center;\">Parameter &amp; Description</th>\n",
    "</tr>\n",
    "<tr>\n",
    "<td class=\"ts\">1</td>\n",
    "<td><p><b>a</b></p>\n",
    "<p>Array to be sorted</p>\n",
    "</td>\n",
    "</tr>\n",
    "<tr>\n",
    "<td class=\"ts\">2</td>\n",
    "<td><p><b>axis</b></p>\n",
    "<p>The axis along which the array is to be sorted. If none, the array is flattened, sorting on the last axis</p>\n",
    "</td>\n",
    "</tr>\n",
    "<tr>\n",
    "<td class=\"ts\">3</td>\n",
    "<td><p><b>kind</b></p>\n",
    "<p>Default is quicksort</p>\n",
    "</td>\n",
    "</tr>\n",
    "<tr>\n",
    "<td class=\"ts\">4</td>\n",
    "<td><p><b>order</b></p>\n",
    "<p>If the array contains fields, the order of fields to be sorted</p>\n",
    "</td>\n",
    "</tr>\n",
    "</tbody></table>"
   ]
  },
  {
   "cell_type": "code",
   "execution_count": 1,
   "metadata": {},
   "outputs": [
    {
     "name": "stdout",
     "output_type": "stream",
     "text": [
      "Our array:\n",
      "[[3 7]\n",
      " [9 1]] \n",
      "\n",
      "Apply sort():\n",
      "[[3 7]\n",
      " [1 9]] \n",
      "\n",
      "Sort along axis 0:\n",
      "[[3 1]\n",
      " [9 7]] \n",
      "\n",
      "Our array is:\n",
      "[('raju', 21) ('anil', 25) ('ravi', 17) ('amar', 27)] \n",
      "\n",
      "Order by name:\n",
      "[('amar', 27) ('anil', 25) ('raju', 21) ('ravi', 17)]\n"
     ]
    }
   ],
   "source": [
    "import numpy as np\n",
    "a = np.array([[3,7],[9,1]])\n",
    "\n",
    "print 'Our array:'\n",
    "print a,'\\n'\n",
    "\n",
    "# 如果没有指定axis，数组变平，在最后一个轴上排序\n",
    "print 'Apply sort():'\n",
    "print np.sort(a),'\\n'\n",
    "\n",
    "print 'Sort along axis 0:'\n",
    "print np.sort(a,axis=0),'\\n'\n",
    "\n",
    "# use order parameter in sort func\n",
    "dt = np.dtype([('name','S10'),('age',int)])\n",
    "a = np.array([(\"raju\",21),(\"anil\",25),(\"ravi\", 17), (\"amar\",27)], dtype = dt)\n",
    "\n",
    "print 'Our array is:'\n",
    "print a,'\\n'\n",
    "\n",
    "print 'Order by name:'\n",
    "print np.sort(a,order = 'name')"
   ]
  },
  {
   "cell_type": "markdown",
   "metadata": {},
   "source": [
    "### 2. numpy.argsort()\n",
    "该函数在输入数组上沿指定的轴和算法进行间接排序，返回的是数组形式的数据索引。这个索引数组用于构建排序后的数组。"
   ]
  },
  {
   "cell_type": "code",
   "execution_count": 2,
   "metadata": {},
   "outputs": [
    {
     "name": "stdout",
     "output_type": "stream",
     "text": [
      "Our array is:\n",
      "[3 1 2]\n",
      "\n",
      "\n",
      "Applying argsort() to x:\n",
      "[1 2 0] \n",
      "\n",
      "Reconstruct original array in sorted order:\n",
      "[1 2 3] \n",
      "\n",
      "Reconstruct the original array using loop:\n",
      "1 2 3\n"
     ]
    }
   ],
   "source": [
    "x = np.array([3, 1, 2]) \n",
    "\n",
    "print 'Our array is:' \n",
    "print x \n",
    "print '\\n'  \n",
    "\n",
    "print 'Applying argsort() to x:' \n",
    "y = np.argsort(x)\n",
    "print y,'\\n'\n",
    "\n",
    "print 'Reconstruct original array in sorted order:'\n",
    "print x[y],'\\n'\n",
    "\n",
    "print 'Reconstruct the original array using loop:'\n",
    "for i in y:\n",
    "    print x[i],"
   ]
  },
  {
   "cell_type": "markdown",
   "metadata": {},
   "source": [
    "### 3. numpy.lexsort()\n",
    "用于对多个序列进行排序。  \n",
    "把它想象成对电子表格进行排序，每一列代表一个序列，排序时优先照顾靠后的列。这里举一个应用场景：小升初考试，重点班录取学生按照总成绩录取。在总成绩相同时，数学成绩高的优先录取，在总成绩和数学成绩都相同时，按照英语成绩录取…… 这里，总成绩排在电子表格的最后一列，数学成绩在倒数第二列，英语成绩在倒数第三列。\n",
    "举个例子："
   ]
  },
  {
   "cell_type": "code",
   "execution_count": 4,
   "metadata": {},
   "outputs": [
    {
     "data": {
      "text/plain": [
       "array([1, 2, 0], dtype=int64)"
      ]
     },
     "execution_count": 4,
     "metadata": {},
     "output_type": "execute_result"
    }
   ],
   "source": [
    "surnames = ('Hertz','Galilei', 'Hertz')\n",
    "first_names = ('Heinrich', 'Galileo', 'Gustav')\n",
    "ind = np.lexsort((first_names, surnames))\n",
    "ind"
   ]
  },
  {
   "cell_type": "markdown",
   "metadata": {},
   "source": [
    "上段文字以及示例摘自[这里](https://charlesnord.github.io/2017/04/16/numpy-lexsort/)。"
   ]
  },
  {
   "cell_type": "markdown",
   "metadata": {},
   "source": [
    "### 4. numpy.argmax()&numpy.argmin()\n",
    "Numpy库中拥有大量用于数组内搜索的函数，比如查找最大值最小值，或者满足特定条件的元素的查找等等。  \n",
    "这两个函数按指定轴分别返回最大和最小元素的索引。"
   ]
  },
  {
   "cell_type": "code",
   "execution_count": 5,
   "metadata": {},
   "outputs": [
    {
     "name": "stdout",
     "output_type": "stream",
     "text": [
      "Our array is:\n",
      "[[30 40 70]\n",
      " [80 20 10]\n",
      " [50 90 60]]\n",
      "\n",
      "\n",
      "Applying argmax() function:\n",
      "7 \n",
      "\n",
      "Index of maximum number in flattened array\n",
      "[30 40 70 80 20 10 50 90 60] \n",
      "\n",
      "Array containing indices of maximum along axis 0:\n",
      "[1 2 0] \n",
      "\n",
      "Array containing indices of maximum along axis 1:\n",
      "[2 0 1] \n",
      "\n"
     ]
    }
   ],
   "source": [
    "a = np.array([[30,40,70],[80,20,10],[50,90,60]]) \n",
    "\n",
    "print 'Our array is:' \n",
    "print a \n",
    "print '\\n' \n",
    "\n",
    "# 得到的最值索引是数组在扁平状态下的元素index\n",
    "print 'Applying argmax() function:' \n",
    "print np.argmax(a),'\\n'\n",
    "\n",
    "print 'Index of maximum number in flattened array'\n",
    "print a.flatten(),'\\n'\n",
    "\n",
    "# axis=0表示求每一列的最值\n",
    "print 'Array containing indices of maximum along axis 0:'\n",
    "maxindex = np.argmax(a,axis=0)\n",
    "print maxindex,'\\n'\n",
    "\n",
    "# axis=1表示求每一行的最值\n",
    "print 'Array containing indices of maximum along axis 1:'\n",
    "maxindex = np.argmax(a,axis=1)\n",
    "print maxindex,'\\n'\n",
    "\n",
    "# np.argmin()类似，示例略"
   ]
  },
  {
   "cell_type": "markdown",
   "metadata": {},
   "source": [
    "### 5. numpy.nonzero()\n",
    "该函数返回输入数组中非零元素的索引。"
   ]
  },
  {
   "cell_type": "code",
   "execution_count": 6,
   "metadata": {},
   "outputs": [
    {
     "name": "stdout",
     "output_type": "stream",
     "text": [
      "Our array is:\n",
      "[[30 40  0]\n",
      " [ 0 20 10]\n",
      " [50  0 60]] \n",
      "\n",
      "Apply nonzero() func:\n",
      "(array([0, 0, 1, 1, 2, 2], dtype=int64), array([0, 1, 1, 2, 0, 2], dtype=int64))\n"
     ]
    }
   ],
   "source": [
    "a = np.array([[30,40,0],[0,20,10],[50,0,60]])\n",
    "\n",
    "print 'Our array is:'\n",
    "print a,'\\n'\n",
    "\n",
    "print 'Apply nonzero() func:'\n",
    "print np.nonzero(a)"
   ]
  },
  {
   "cell_type": "markdown",
   "metadata": {},
   "source": [
    "### 6. numpy.where()\n",
    "类似于SQL中的where语句，where()函数返回输入数组中满足条件的元素的索引。"
   ]
  },
  {
   "cell_type": "code",
   "execution_count": 7,
   "metadata": {},
   "outputs": [
    {
     "name": "stdout",
     "output_type": "stream",
     "text": [
      "Our array is:\n",
      "[[ 0.  1.  2.]\n",
      " [ 3.  4.  5.]\n",
      " [ 6.  7.  8.]] \n",
      "\n",
      "Indices of elements > 3\n",
      "(array([1, 1, 2, 2, 2], dtype=int64), array([1, 2, 0, 1, 2], dtype=int64)) \n",
      "\n",
      "Use these indices to get elements satisfying the condition\n",
      "[ 4.  5.  6.  7.  8.]\n"
     ]
    }
   ],
   "source": [
    "x = np.arange(9.).reshape(3,3)\n",
    "print 'Our array is:'\n",
    "print x,'\\n'\n",
    "\n",
    "print 'Indices of elements > 3'\n",
    "y = np.where(x>3)\n",
    "print y,'\\n'\n",
    "\n",
    "print 'Use these indices to get elements satisfying the condition'\n",
    "print x[y]"
   ]
  },
  {
   "cell_type": "markdown",
   "metadata": {},
   "source": [
    "### 7. numpy.extract()\n",
    "这个extract()函数返回满足任意条件的元素。"
   ]
  },
  {
   "cell_type": "code",
   "execution_count": 10,
   "metadata": {
    "scrolled": true
   },
   "outputs": [
    {
     "name": "stdout",
     "output_type": "stream",
     "text": [
      "Our array is:\n",
      "[[ 0.  1.  2.]\n",
      " [ 3.  4.  5.]\n",
      " [ 6.  7.  8.]] \n",
      "\n",
      "Element-wise value of condition\n",
      "[[ True False  True]\n",
      " [False  True False]\n",
      " [ True False  True]] \n",
      "\n",
      "Extract elements using condition\n",
      "[ 0.  2.  4.  6.  8.]\n"
     ]
    }
   ],
   "source": [
    "print 'Our array is:'\n",
    "print x,'\\n'\n",
    "\n",
    "# 定义一个条件\n",
    "cond = np.mod(x,2) == 0\n",
    "\n",
    "print 'Element-wise value of condition'\n",
    "print cond,'\\n'\n",
    "\n",
    "print 'Extract elements using condition'\n",
    "print np.extract(cond,x)"
   ]
  },
  {
   "cell_type": "code",
   "execution_count": null,
   "metadata": {
    "collapsed": true
   },
   "outputs": [],
   "source": []
  }
 ],
 "metadata": {
  "kernelspec": {
   "display_name": "Python 2",
   "language": "python",
   "name": "python2"
  },
  "language_info": {
   "codemirror_mode": {
    "name": "ipython",
    "version": 2
   },
   "file_extension": ".py",
   "mimetype": "text/x-python",
   "name": "python",
   "nbconvert_exporter": "python",
   "pygments_lexer": "ipython2",
   "version": "2.7.13"
  }
 },
 "nbformat": 4,
 "nbformat_minor": 2
}
